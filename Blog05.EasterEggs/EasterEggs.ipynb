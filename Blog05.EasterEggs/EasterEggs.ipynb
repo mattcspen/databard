{
 "cells": [
  {
   "cell_type": "code",
   "execution_count": 2,
   "metadata": {
    "collapsed": true
   },
   "outputs": [],
   "source": [
    "# Easter Egg Visualization\n",
    "# Matt Spencer - DataBard\n",
    "# www.databard.blog\n",
    "# 4/1/2018\n",
    "library(dplyr)\n",
    "library(tidyr)\n",
    "library(ggplot2)\n",
    "library(grid)\n",
    "library(gridExtra)"
   ]
  },
  {
   "cell_type": "code",
   "execution_count": 21,
   "metadata": {
    "collapsed": true
   },
   "outputs": [],
   "source": [
    "theme_Publication <- function(base_size=14, base_family=\"helvetica\") {\n",
    "      library(grid)\n",
    "      library(ggthemes)\n",
    "      (theme_foundation(base_size=base_size, base_family=base_family)\n",
    "       + theme(plot.title = element_text(face = \"bold\",\n",
    "                                         size = rel(1.2), hjust = 0.5),\n",
    "               text = element_text(),\n",
    "               panel.background = element_rect(colour = NA),\n",
    "               plot.background = element_rect(colour = NA),\n",
    "               panel.border = element_rect(colour = NA),\n",
    "               axis.title = element_text(face = \"bold\",size = rel(1)),\n",
    "               axis.title.y = element_text(angle=90,vjust =2),\n",
    "               axis.title.x = element_text(vjust = -0.2),\n",
    "               axis.text = element_text(), \n",
    "               axis.line = element_line(colour=\"black\"),\n",
    "               axis.ticks = element_line(),\n",
    "               panel.grid.major = element_line(colour=\"#f0f0f0\"),\n",
    "               panel.grid.minor = element_blank(),\n",
    "               plot.margin=unit(c(10,5,5,5),\"mm\"),\n",
    "               strip.background=element_rect(colour=\"#f0f0f0\",fill=\"#f0f0f0\"),\n",
    "               strip.text = element_text(face=\"bold\")\n",
    "          ))\n",
    "      \n",
    "}\n",
    "\n",
    "scale_fill_Publication <- function(...){\n",
    "      library(scales)\n",
    "      discrete_scale(\"fill\",\"Publication\",manual_pal(values = c(\"#386cb0\",\"#fdb462\",\"#7fc97f\",\"#ef3b2c\",\"#662506\",\"#a6cee3\",\"#fb9a99\",\"#984ea3\",\"#ffff33\")), ...)\n",
    "\n",
    "}\n",
    "\n",
    "scale_colour_Publication <- function(...){\n",
    "      library(scales)\n",
    "      discrete_scale(\"colour\",\"Publication\",manual_pal(values = c(\"#386cb0\",\"#fdb462\",\"#7fc97f\",\"#ef3b2c\",\"#662506\",\"#a6cee3\",\"#fb9a99\",\"#984ea3\",\"#ffff33\")), ...)\n",
    "\n",
    "}\n",
    "\n",
    "# Function to generate the copyright for any plot\n",
    "# Useage:\n",
    "# g <- ggplot(...) + ...\n",
    "# add.copyright(g)\n",
    "# add.copyright(g, 0.5, 1/20)\n",
    "add.copyright <- function(plot, fontsize=1, rel.height=1/20) {\n",
    "    cp <- textGrob(paste(\"\\uA9 Matt Spencer \", format(Sys.time(), \"%Y\"), \", databard.blog\", sep=''),\n",
    "             gp=gpar(fontfamily = \"Verdana\", cex=fontsize) ,\n",
    "             x=unit(1, \"npc\"), hjust = 1) #, y=unit(0, \"npc\"), vjust = 0)\n",
    "    \n",
    "    cp.h <- round(rel.height*100)\n",
    "    plot.h <- 100-cp.h\n",
    "    lay <- matrix(c(rep(1,plot.h), rep(2,cp.h)))\n",
    "    \n",
    "    return(grid.arrange(plot, cp, layout_matrix = lay))\n",
    "}\n"
   ]
  },
  {
   "cell_type": "code",
   "execution_count": 41,
   "metadata": {},
   "outputs": [
    {
     "data": {},
     "metadata": {},
     "output_type": "display_data"
    },
    {
     "data": {
      "image/png": "[encoded data removed]",
      "text/plain": [
       "plot without title"
      ]
     },
     "metadata": {},
     "output_type": "display_data"
    }
   ],
   "source": [
    "colors <- c(\"Pink\", \"Orange\", \"Yellow\", \"Green\", \"Teal\", \"Blue\", \"Purple\")\n",
    "eggs <- c(3, 4.5, 6, 4, 1, 4.5, 5)\n",
    "data <- data.frame(color = factor(colors, levels = colors), \n",
    "                   count = eggs)\n",
    "\n",
    "egg.colors <- c(rgb(255, 128, 192, max = 255), rgb(255, 128, 64, max = 255),\n",
    "                rgb(255, 242, 0, max = 255), rgb(0, 234, 58, max = 255),\n",
    "                rgb(0, 128, 128, max = 255), rgb(0, 0, 255, max = 255), \n",
    "                rgb(128, 0, 255, max = 255))\n",
    "\n",
    "g <- ggplot(data, aes(x = color, y = count, fill = color)) +\n",
    "    geom_col() +\n",
    "    scale_fill_manual(values = egg.colors) +\n",
    "    scale_y_continuous(breaks = seq(2, 6, 2), minor_breaks = seq(1, 5, 2), expand = c(0, 0)) +\n",
    "    ggtitle(\"Color Distribution of Easter Eggs Found\") +\n",
    "    labs(x = \"\") +\n",
    "    guides(fill = F,\n",
    "           axis.title.x = element_blank()) +\n",
    "    theme_Publication()\n",
    "g\n",
    "\n",
    "#ggsave(file = \"figures/easteregg_colors.jpeg\", g, width = 5, height = 3, dpi = 300)"
   ]
  },
  {
   "cell_type": "code",
   "execution_count": null,
   "metadata": {
    "collapsed": true
   },
   "outputs": [],
   "source": []
  }
 ],
 "metadata": {
  "kernelspec": {
   "display_name": "R",
   "language": "R",
   "name": "ir"
  },
  "language_info": {
   "codemirror_mode": "r",
   "file_extension": ".r",
   "mimetype": "text/x-r-source",
   "name": "R",
   "pygments_lexer": "r",
   "version": "3.4.1"
  }
 },
 "nbformat": 4,
 "nbformat_minor": 2
}
