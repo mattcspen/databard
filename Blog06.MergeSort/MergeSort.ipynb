{
 "cells": [
  {
   "cell_type": "code",
   "execution_count": 1,
   "metadata": {},
   "outputs": [
    {
     "name": "stderr",
     "output_type": "stream",
     "text": [
      "\n",
      "Attaching package: 'dplyr'\n",
      "\n",
      "The following objects are masked from 'package:stats':\n",
      "\n",
      "    filter, lag\n",
      "\n",
      "The following objects are masked from 'package:base':\n",
      "\n",
      "    intersect, setdiff, setequal, union\n",
      "\n"
     ]
    }
   ],
   "source": [
    "library(\"databaRd\")\n",
    "library(\"ggplot2\")\n",
    "library(\"dplyr\")"
   ]
  },
  {
   "cell_type": "code",
   "execution_count": 79,
   "metadata": {},
   "outputs": [
    {
     "data": {
      "text/html": [
       "<ol class=list-inline>\n",
       "\t<li>19</li>\n",
       "\t<li>3</li>\n",
       "\t<li>6</li>\n",
       "\t<li>27</li>\n",
       "\t<li>18</li>\n",
       "\t<li>30</li>\n",
       "\t<li>12</li>\n",
       "\t<li>24</li>\n",
       "\t<li>9</li>\n",
       "\t<li>15</li>\n",
       "\t<li>22</li>\n",
       "\t<li>21</li>\n",
       "\t<li>1</li>\n",
       "\t<li>10</li>\n",
       "\t<li>25</li>\n",
       "\t<li>13</li>\n",
       "\t<li>8</li>\n",
       "\t<li>17</li>\n",
       "\t<li>26</li>\n",
       "\t<li>14</li>\n",
       "\t<li>23</li>\n",
       "\t<li>7</li>\n",
       "\t<li>11</li>\n",
       "\t<li>20</li>\n",
       "\t<li>2</li>\n",
       "\t<li>28</li>\n",
       "\t<li>16</li>\n",
       "\t<li>5</li>\n",
       "\t<li>4</li>\n",
       "\t<li>29</li>\n",
       "</ol>\n"
      ],
      "text/latex": [
       "\\begin{enumerate*}\n",
       "\\item 19\n",
       "\\item 3\n",
       "\\item 6\n",
       "\\item 27\n",
       "\\item 18\n",
       "\\item 30\n",
       "\\item 12\n",
       "\\item 24\n",
       "\\item 9\n",
       "\\item 15\n",
       "\\item 22\n",
       "\\item 21\n",
       "\\item 1\n",
       "\\item 10\n",
       "\\item 25\n",
       "\\item 13\n",
       "\\item 8\n",
       "\\item 17\n",
       "\\item 26\n",
       "\\item 14\n",
       "\\item 23\n",
       "\\item 7\n",
       "\\item 11\n",
       "\\item 20\n",
       "\\item 2\n",
       "\\item 28\n",
       "\\item 16\n",
       "\\item 5\n",
       "\\item 4\n",
       "\\item 29\n",
       "\\end{enumerate*}\n"
      ],
      "text/markdown": [
       "1. 19\n",
       "2. 3\n",
       "3. 6\n",
       "4. 27\n",
       "5. 18\n",
       "6. 30\n",
       "7. 12\n",
       "8. 24\n",
       "9. 9\n",
       "10. 15\n",
       "11. 22\n",
       "12. 21\n",
       "13. 1\n",
       "14. 10\n",
       "15. 25\n",
       "16. 13\n",
       "17. 8\n",
       "18. 17\n",
       "19. 26\n",
       "20. 14\n",
       "21. 23\n",
       "22. 7\n",
       "23. 11\n",
       "24. 20\n",
       "25. 2\n",
       "26. 28\n",
       "27. 16\n",
       "28. 5\n",
       "29. 4\n",
       "30. 29\n",
       "\n",
       "\n"
      ],
      "text/plain": [
       " [1] 19  3  6 27 18 30 12 24  9 15 22 21  1 10 25 13  8 17 26 14 23  7 11 20  2\n",
       "[26] 28 16  5  4 29"
      ]
     },
     "metadata": {},
     "output_type": "display_data"
    },
    {
     "data": {
      "text/html": [
       "<ol class=list-inline>\n",
       "\t<li>1</li>\n",
       "\t<li>2</li>\n",
       "\t<li>3</li>\n",
       "\t<li>4</li>\n",
       "\t<li>5</li>\n",
       "\t<li>6</li>\n",
       "\t<li>7</li>\n",
       "\t<li>8</li>\n",
       "\t<li>9</li>\n",
       "\t<li>10</li>\n",
       "\t<li>11</li>\n",
       "\t<li>12</li>\n",
       "\t<li>13</li>\n",
       "\t<li>14</li>\n",
       "\t<li>15</li>\n",
       "\t<li>16</li>\n",
       "\t<li>17</li>\n",
       "\t<li>18</li>\n",
       "\t<li>19</li>\n",
       "\t<li>20</li>\n",
       "\t<li>21</li>\n",
       "\t<li>22</li>\n",
       "\t<li>23</li>\n",
       "\t<li>24</li>\n",
       "\t<li>25</li>\n",
       "\t<li>26</li>\n",
       "\t<li>27</li>\n",
       "\t<li>28</li>\n",
       "\t<li>29</li>\n",
       "\t<li>30</li>\n",
       "</ol>\n"
      ],
      "text/latex": [
       "\\begin{enumerate*}\n",
       "\\item 1\n",
       "\\item 2\n",
       "\\item 3\n",
       "\\item 4\n",
       "\\item 5\n",
       "\\item 6\n",
       "\\item 7\n",
       "\\item 8\n",
       "\\item 9\n",
       "\\item 10\n",
       "\\item 11\n",
       "\\item 12\n",
       "\\item 13\n",
       "\\item 14\n",
       "\\item 15\n",
       "\\item 16\n",
       "\\item 17\n",
       "\\item 18\n",
       "\\item 19\n",
       "\\item 20\n",
       "\\item 21\n",
       "\\item 22\n",
       "\\item 23\n",
       "\\item 24\n",
       "\\item 25\n",
       "\\item 26\n",
       "\\item 27\n",
       "\\item 28\n",
       "\\item 29\n",
       "\\item 30\n",
       "\\end{enumerate*}\n"
      ],
      "text/markdown": [
       "1. 1\n",
       "2. 2\n",
       "3. 3\n",
       "4. 4\n",
       "5. 5\n",
       "6. 6\n",
       "7. 7\n",
       "8. 8\n",
       "9. 9\n",
       "10. 10\n",
       "11. 11\n",
       "12. 12\n",
       "13. 13\n",
       "14. 14\n",
       "15. 15\n",
       "16. 16\n",
       "17. 17\n",
       "18. 18\n",
       "19. 19\n",
       "20. 20\n",
       "21. 21\n",
       "22. 22\n",
       "23. 23\n",
       "24. 24\n",
       "25. 25\n",
       "26. 26\n",
       "27. 27\n",
       "28. 28\n",
       "29. 29\n",
       "30. 30\n",
       "\n",
       "\n"
      ],
      "text/plain": [
       " [1]  1  2  3  4  5  6  7  8  9 10 11 12 13 14 15 16 17 18 19 20 21 22 23 24 25\n",
       "[26] 26 27 28 29 30"
      ]
     },
     "metadata": {},
     "output_type": "display_data"
    }
   ],
   "source": [
    "#cc <- 1\n",
    "\n",
    "merge.vs <- function(v1, v2) {\n",
    "    v.merge <- numeric()\n",
    "    idx <- 1\n",
    "    while (length(v1) > 0 | length(v2) > 0) {\n",
    "        if (length(v1) == 0)      { v.merge[idx] <- v2[1]; v2 <- v2[-1] }\n",
    "        else if (length(v2) == 0) { v.merge[idx] <- v1[1]; v1 <- v1[-1] }\n",
    "        else if (v1[1] < v2[1])   { v.merge[idx] <- v1[1]; v1 <- v1[-1] } \n",
    "        else                      { v.merge[idx] <- v2[1]; v2 <- v2[-1] }\n",
    "        idx <- idx + 1\n",
    "    }\n",
    "    return(v.merge)\n",
    "}\n",
    "\n",
    "merge.sort <- function(v) {\n",
    "    #cc <<- cc + 1\n",
    "    n <- length(v)\n",
    "    if(n == 1) return(v)\n",
    "    sorted <- merge.vs(merge.sort(v[1:floor(n/2)]), merge.sort(v[(floor(n/2)+1):n]))\n",
    "    return(sorted)\n",
    "}\n",
    "\n",
    "v1 <- sample(1:30)\n",
    "v1\n",
    "merge.sort(v1)"
   ]
  },
  {
   "cell_type": "code",
   "execution_count": 7,
   "metadata": {},
   "outputs": [],
   "source": [
    "all <- c()\n",
    "merge.ranges <- function(r1, r2, ...) {\n",
    "    merged <- numeric()\n",
    "    if (save.dir != \"\") plot.vector(all, dir = save.dir, m = merged, v1 = r1, v2 = r2)\n",
    "    while (length(r1) > 0 | length(r2) > 0) {\n",
    "        if (length(r1) == 0)              { merged <- c(merged, r2[1]); r2 <- r2[-1] }\n",
    "        else if (length(r2) == 0)         { merged <- c(merged, r1[1]); r1 <- r1[-1] }\n",
    "        else if (all[r1[1]] < all[r2[1]]) { merged <- c(merged, r1[1]); r1 <- r1[-1] }\n",
    "        else { \n",
    "            t <- all[r2[1]] \n",
    "            all[r1 + 1] <<- all[r1]\n",
    "            all[r1[1]] <<- t\n",
    "            merged <- c(merged, r1[1])\n",
    "            r1 <- r1 + 1\n",
    "            r2 <- r2[-1]\n",
    "        }\n",
    "        if (save.dir != \"\") plot.vector(all, dir = save.dir, m = merged, v1 = r1, v2 = r2, ...)\n",
    "    }\n",
    "    return(merged)\n",
    "}\n",
    "\n",
    "recurse.merge.sort <- function(range = 1:length(all), ...) {\n",
    "    n <- length(range)\n",
    "    if(n == 1) return(range) \n",
    "    sorted <- merge.ranges(recurse.merge.sort(range[1:floor(n/2)], ...), recurse.merge.sort(range[(floor(n/2)+1):n]), ...)\n",
    "    return(sorted)\n",
    "}\n",
    "    \n",
    "merge.sort <- function(v, dir=\"\", ...) {\n",
    "    all <<- v\n",
    "    save.dir <<- dir\n",
    "    \n",
    "    x <- recurse.merge.sort(...)\n",
    "    return(all)\n",
    "}"
   ]
  },
  {
   "cell_type": "code",
   "execution_count": 75,
   "metadata": {
    "scrolled": true
   },
   "outputs": [
    {
     "data": {
      "text/html": [
       "<ol class=list-inline>\n",
       "\t<li>4</li>\n",
       "\t<li>1</li>\n",
       "</ol>\n"
      ],
      "text/latex": [
       "\\begin{enumerate*}\n",
       "\\item 4\n",
       "\\item 1\n",
       "\\end{enumerate*}\n"
      ],
      "text/markdown": [
       "1. 4\n",
       "2. 1\n",
       "\n",
       "\n"
      ],
      "text/plain": [
       "[1] 4 1"
      ]
     },
     "metadata": {},
     "output_type": "display_data"
    }
   ],
   "source": [
    "set.seed(98765)\n",
    "data <- sample(1:4)\n",
    "data %>% head(2)"
   ]
  },
  {
   "cell_type": "code",
   "execution_count": 5,
   "metadata": {},
   "outputs": [
    {
     "data": {},
     "metadata": {},
     "output_type": "display_data"
    },
    {
     "data": {
      "image/png": "[encoded data removed]",
      "text/plain": [
       "plot without title"
      ]
     },
     "metadata": {},
     "output_type": "display_data"
    }
   ],
   "source": [
    "plot.vector <- function(v, dir = \"\", col.low = \"gray50\", col.high = \"gray50\", color.only = F,\n",
    "                        m = numeric(), v1 = numeric(), v2 = numeric()) {\n",
    "    data <- data.frame(rank = 1:length(v), value = v)\n",
    "    g <- ggplot(data, aes(x = rank, y = value, fill = value)) +\n",
    "        geom_col(width=1) +\n",
    "        scale_fill_gradient(low = col.low, high = col.high) +\n",
    "        guides(fill=F) +\n",
    "        theme_databard() +\n",
    "        theme(\n",
    "            text = element_blank(),\n",
    "            axis.line = element_blank(), \n",
    "            axis.ticks = element_blank(),\n",
    "            panel.background = element_blank(),\n",
    "            panel.border = element_blank(),\n",
    "            panel.grid.major = element_blank(),\n",
    "            panel.grid.minor = element_blank(),\n",
    "            plot.background = element_blank()\n",
    "        )\n",
    "    \n",
    "    if (length(m) > 0) g <- g + geom_rect(xmin = min(m) - 0.5, xmax = max(m) + 0.5, ymin = 0, ymax = max(v), \n",
    "                                          alpha=0, color=\"blue\")\n",
    "    if (length(v1) > 0) g <- g + geom_rect(xmin = min(v1) - 0.5, xmax = max(v1) + 0.5, ymin = 0, ymax = max(v), \n",
    "                                          alpha=0, color=\"pink\")\n",
    "    if (length(v2) > 0) g <- g + geom_rect(xmin = min(v2) - 0.5, xmax = max(v2) + 0.5, ymin = 0, ymax = max(v), \n",
    "                                          alpha=0, color=\"red\")\n",
    "    \n",
    "    if (color.only) g <- g + geom_col(aes(y = max(v)), width=1)\n",
    "        \n",
    "    if (dir != \"\") {\n",
    "        fs <- list.files(dir)\n",
    "        tag <- 1\n",
    "        if (length(fs) > 0) tag <- max(as.numeric(lapply(sapply(fs, function(x) strsplit(x, \"\\\\.\")), '[[', 1))) + 1\n",
    "        fname <- paste(dir, \"/\", tag, \".sortplot.png\", sep='')\n",
    "        ggsave(file = fname, g, dpi = 100)\n",
    "    }\n",
    "    g\n",
    "}\n",
    "v <- sample(1:20)\n",
    "v <- c(merge.sort(v[1:5]), merge.sort(v[6:10]), v[11:20])\n",
    "plot.vector(v, col.low=\"light green\", col.high=\"dark green\", color.only=F, v1 = 1:5, v2 = 6:10)"
   ]
  },
  {
   "cell_type": "code",
   "execution_count": 9,
   "metadata": {},
   "outputs": [
    {
     "data": {
      "text/html": [
       "<ol class=list-inline>\n",
       "\t<li>8</li>\n",
       "\t<li>7</li>\n",
       "\t<li>6</li>\n",
       "\t<li>5</li>\n",
       "\t<li>4</li>\n",
       "\t<li>3</li>\n",
       "\t<li>2</li>\n",
       "\t<li>1</li>\n",
       "</ol>\n"
      ],
      "text/latex": [
       "\\begin{enumerate*}\n",
       "\\item 8\n",
       "\\item 7\n",
       "\\item 6\n",
       "\\item 5\n",
       "\\item 4\n",
       "\\item 3\n",
       "\\item 2\n",
       "\\item 1\n",
       "\\end{enumerate*}\n"
      ],
      "text/markdown": [
       "1. 8\n",
       "2. 7\n",
       "3. 6\n",
       "4. 5\n",
       "5. 4\n",
       "6. 3\n",
       "7. 2\n",
       "8. 1\n",
       "\n",
       "\n"
      ],
      "text/plain": [
       "[1] 8 7 6 5 4 3 2 1"
      ]
     },
     "metadata": {},
     "output_type": "display_data"
    },
    {
     "name": "stderr",
     "output_type": "stream",
     "text": [
      "Saving 6.67 x 6.67 in image\n",
      "Saving 6.67 x 6.67 in image\n",
      "Saving 6.67 x 6.67 in image\n",
      "Saving 6.67 x 6.67 in image\n",
      "Saving 6.67 x 6.67 in image\n",
      "Saving 6.67 x 6.67 in image\n",
      "Saving 6.67 x 6.67 in image\n",
      "Saving 6.67 x 6.67 in image\n",
      "Saving 6.67 x 6.67 in image\n",
      "Saving 6.67 x 6.67 in image\n",
      "Saving 6.67 x 6.67 in image\n",
      "Saving 6.67 x 6.67 in image\n",
      "Saving 6.67 x 6.67 in image\n",
      "Saving 6.67 x 6.67 in image\n",
      "Saving 6.67 x 6.67 in image\n",
      "Saving 6.67 x 6.67 in image\n",
      "Saving 6.67 x 6.67 in image\n",
      "Saving 6.67 x 6.67 in image\n",
      "Saving 6.67 x 6.67 in image\n",
      "Saving 6.67 x 6.67 in image\n",
      "Saving 6.67 x 6.67 in image\n",
      "Saving 6.67 x 6.67 in image\n",
      "Saving 6.67 x 6.67 in image\n",
      "Saving 6.67 x 6.67 in image\n",
      "Saving 6.67 x 6.67 in image\n",
      "Saving 6.67 x 6.67 in image\n",
      "Saving 6.67 x 6.67 in image\n",
      "Saving 6.67 x 6.67 in image\n",
      "Saving 6.67 x 6.67 in image\n",
      "Saving 6.67 x 6.67 in image\n",
      "Saving 6.67 x 6.67 in image\n"
     ]
    },
    {
     "data": {
      "text/html": [
       "<ol class=list-inline>\n",
       "\t<li>1</li>\n",
       "\t<li>2</li>\n",
       "\t<li>3</li>\n",
       "\t<li>4</li>\n",
       "\t<li>5</li>\n",
       "\t<li>6</li>\n",
       "\t<li>7</li>\n",
       "\t<li>8</li>\n",
       "</ol>\n"
      ],
      "text/latex": [
       "\\begin{enumerate*}\n",
       "\\item 1\n",
       "\\item 2\n",
       "\\item 3\n",
       "\\item 4\n",
       "\\item 5\n",
       "\\item 6\n",
       "\\item 7\n",
       "\\item 8\n",
       "\\end{enumerate*}\n"
      ],
      "text/markdown": [
       "1. 1\n",
       "2. 2\n",
       "3. 3\n",
       "4. 4\n",
       "5. 5\n",
       "6. 6\n",
       "7. 7\n",
       "8. 8\n",
       "\n",
       "\n"
      ],
      "text/plain": [
       "[1] 1 2 3 4 5 6 7 8"
      ]
     },
     "metadata": {},
     "output_type": "display_data"
    }
   ],
   "source": [
    "v <- rev(1:8)\n",
    "dir <- \"figures/Merge1/\"\n",
    "v\n",
    "merge.sort(v, dir, col.low=\"light green\", col.high=\"dark green\")\n"
   ]
  },
  {
   "cell_type": "code",
   "execution_count": null,
   "metadata": {
    "collapsed": true
   },
   "outputs": [],
   "source": []
  }
 ],
 "metadata": {
  "kernelspec": {
   "display_name": "R",
   "language": "R",
   "name": "ir"
  },
  "language_info": {
   "codemirror_mode": "r",
   "file_extension": ".r",
   "mimetype": "text/x-r-source",
   "name": "R",
   "pygments_lexer": "r",
   "version": "3.4.1"
  }
 },
 "nbformat": 4,
 "nbformat_minor": 2
}
