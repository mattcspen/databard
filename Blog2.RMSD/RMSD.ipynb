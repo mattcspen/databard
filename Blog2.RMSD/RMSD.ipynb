{
 "cells": [
  {
   "cell_type": "markdown",
   "metadata": {},
   "source": [
    "# Linear Regression Exercise `R`\n",
    "\n",
    "This exercise is going to be a little different in the sense that we won't be guiding in a question-by-question format. Instead, we are going to let you construct linear model in your choice of `R` or `Python`, whichever you prefer.\n",
    "\n",
    "The prediction problem is to predict `height` from the `'../../../datasets/stature-hand-foot/stature-hand-foot.csv'` (you may substitute this with another dataset from the dataset directory if you have a regression prediction problem in mind) dataset. You can use any variable or combination of variables in order to predict `height`.\n",
    "\n",
    "You are not going to be graded upon the performance of the model itself, but please approach this as an actual prediction problem. That being said, you should split the data into training and testing sets, in which your model is trained on your training set while the performance is assessed on the testing set. Be sure to predict some output with your testing inputs.\n",
    "\n",
    "The purpose of this assignment is to demonstrate your ability to use regression to develop a machine learning model. Feel free to include anything that demonstrates your understanding of model development and model refinement including data exploration and even written description of your reasoning. \n",
    "\n",
    "Like always, feel free to ask questions along the way if you get stuck at any point. We are more than happy to help!"
   ]
  },
  {
   "cell_type": "code",
   "execution_count": 2,
   "metadata": {},
   "outputs": [
    {
     "name": "stderr",
     "output_type": "stream",
     "text": [
      "\n",
      "Attaching package: ‘dplyr’\n",
      "\n",
      "The following objects are masked from ‘package:stats’:\n",
      "\n",
      "    filter, lag\n",
      "\n",
      "The following objects are masked from ‘package:base’:\n",
      "\n",
      "    intersect, setdiff, setequal, union\n",
      "\n",
      "Loading required package: lattice\n",
      "Loading required package: ggplot2\n",
      "\n",
      "Attaching package: ‘gridExtra’\n",
      "\n",
      "The following object is masked from ‘package:dplyr’:\n",
      "\n",
      "    combine\n",
      "\n"
     ]
    }
   ],
   "source": [
    "library(dplyr)\n",
    "library(tidyr)\n",
    "library(caret)\n",
    "library(ggplot2)\n",
    "library(gridExtra)\n",
    "library(grid)\n",
    "library(lattice)"
   ]
  },
  {
   "cell_type": "code",
   "execution_count": 3,
   "metadata": {
    "collapsed": true
   },
   "outputs": [],
   "source": [
    "theme_Publication <- function(base_size=14, base_family=\"helvetica\") {\n",
    "      library(grid)\n",
    "      library(ggthemes)\n",
    "      (theme_foundation(base_size=base_size, base_family=base_family)\n",
    "       + theme(plot.title = element_text(face = \"bold\",\n",
    "                                         size = rel(1.2), hjust = 0.5),\n",
    "               text = element_text(),\n",
    "               panel.background = element_rect(colour = NA),\n",
    "               plot.background = element_rect(colour = NA),\n",
    "               panel.border = element_rect(colour = NA),\n",
    "               axis.title = element_text(face = \"bold\",size = rel(1)),\n",
    "               axis.title.y = element_text(angle=90,vjust =2),\n",
    "               axis.title.x = element_text(vjust = -0.2),\n",
    "               axis.text = element_text(), \n",
    "               axis.line = element_line(colour=\"black\"),\n",
    "               axis.ticks = element_line(),\n",
    "               panel.grid.major = element_line(colour=\"#f0f0f0\"),\n",
    "               panel.grid.minor = element_blank(),\n",
    "               #legend.key = element_rect(colour = NA),\n",
    "               #legend.position = \"bottom\",\n",
    "               #legend.direction = \"horizontal\",\n",
    "               #legend.key.size= unit(0.2, \"cm\"),\n",
    "               #legend.margin = unit(0, \"cm\"),\n",
    "               #legend.title = element_text(face=\"italic\"),\n",
    "               plot.margin=unit(c(10,5,5,5),\"mm\"),\n",
    "               strip.background=element_rect(colour=\"#f0f0f0\",fill=\"#f0f0f0\"),\n",
    "               strip.text = element_text(face=\"bold\")\n",
    "          ))\n",
    "      \n",
    "}\n",
    "\n",
    "scale_fill_Publication <- function(...){\n",
    "      library(scales)\n",
    "      discrete_scale(\"fill\",\"Publication\",manual_pal(values = c(\"#386cb0\",\"#fdb462\",\"#7fc97f\",\"#ef3b2c\",\"#662506\",\"#a6cee3\",\"#fb9a99\",\"#984ea3\",\"#ffff33\")), ...)\n",
    "\n",
    "}\n",
    "\n",
    "scale_colour_Publication <- function(...){\n",
    "      library(scales)\n",
    "      discrete_scale(\"colour\",\"Publication\",manual_pal(values = c(\"#386cb0\",\"#fdb462\",\"#7fc97f\",\"#ef3b2c\",\"#662506\",\"#a6cee3\",\"#fb9a99\",\"#984ea3\",\"#ffff33\")), ...)\n",
    "\n",
    "}"
   ]
  },
  {
   "cell_type": "markdown",
   "metadata": {},
   "source": [
    "First I'll load the data and see what features I have to work with. I'm renaming the column names to condense a bit. Then I'll summarize the data to see what I can learn from that."
   ]
  },
  {
   "cell_type": "code",
   "execution_count": 4,
   "metadata": {},
   "outputs": [
    {
     "data": {
      "text/plain": [
       "     gender          height          hand            foot      \n",
       " Min.   :1.000   Min.   :1485   Min.   :133.7   Min.   :193.6  \n",
       " 1st Qu.:1.000   1st Qu.:1604   1st Qu.:189.6   1st Qu.:232.9  \n",
       " Median :1.000   Median :1670   Median :200.0   Median :251.4  \n",
       " Mean   :1.484   Mean   :1678   Mean   :199.5   Mean   :249.1  \n",
       " 3rd Qu.:2.000   3rd Qu.:1751   3rd Qu.:208.7   3rd Qu.:263.1  \n",
       " Max.   :2.000   Max.   :1889   Max.   :258.0   Max.   :283.1  "
      ]
     },
     "metadata": {},
     "output_type": "display_data"
    }
   ],
   "source": [
    "statdata <- read.csv('stature-hand-foot.csv')\n",
    "colnames(statdata) <- c('gender', 'height', 'hand', 'foot')\n",
    "summary(statdata)"
   ]
  },
  {
   "cell_type": "markdown",
   "metadata": {},
   "source": [
    "Okay, just a few variables. Since I want to be predicting height, I know it will have to be a function of some combination of the other three - gender, hand length, and foot length.\n",
    "\n",
    "I see that gender implemented as a numeric variable, when really it is categorical. Furthermore, I'm not sure whether 1=male or 2=male. In order to determine this, I'm going to see what the average heights of each gender is, under the assumption that males tend to have larger body parts."
   ]
  },
  {
   "cell_type": "code",
   "execution_count": 5,
   "metadata": {},
   "outputs": [
    {
     "data": {
      "text/html": [
       "<table>\n",
       "<thead><tr><th scope=col>gender</th><th scope=col>n</th><th scope=col>m_height</th><th scope=col>m_hand</th><th scope=col>m_foot</th></tr></thead>\n",
       "<tbody>\n",
       "\t<tr><td>1       </td><td>80      </td><td>1750.565</td><td>208.7788</td><td>262.5562</td></tr>\n",
       "\t<tr><td>2       </td><td>75      </td><td>1599.597</td><td>189.5800</td><td>234.7493</td></tr>\n",
       "</tbody>\n",
       "</table>\n"
      ],
      "text/latex": [
       "\\begin{tabular}{r|lllll}\n",
       " gender & n & m\\_height & m\\_hand & m\\_foot\\\\\n",
       "\\hline\n",
       "\t 1        & 80       & 1750.565 & 208.7788 & 262.5562\\\\\n",
       "\t 2        & 75       & 1599.597 & 189.5800 & 234.7493\\\\\n",
       "\\end{tabular}\n"
      ],
      "text/markdown": [
       "\n",
       "gender | n | m_height | m_hand | m_foot | \n",
       "|---|---|\n",
       "| 1        | 80       | 1750.565 | 208.7788 | 262.5562 | \n",
       "| 2        | 75       | 1599.597 | 189.5800 | 234.7493 | \n",
       "\n",
       "\n"
      ],
      "text/plain": [
       "  gender n  m_height m_hand   m_foot  \n",
       "1 1      80 1750.565 208.7788 262.5562\n",
       "2 2      75 1599.597 189.5800 234.7493"
      ]
     },
     "metadata": {},
     "output_type": "display_data"
    }
   ],
   "source": [
    "statdata %>%\n",
    "    group_by(gender) %>%\n",
    "    summarize(n = length(gender), m_height = mean(height), m_hand = mean(hand), m_foot = mean(foot))"
   ]
  },
  {
   "cell_type": "markdown",
   "metadata": {},
   "source": [
    "Ok - height, hand, and foot length are all larger, on average, for gender=1 than gender=2. Therefore, I conclude that 1=male, and will adjust the gender variable to denote this (we'll call it sex, since this is really a more appropriate term for the variable than gender anyway)."
   ]
  },
  {
   "cell_type": "code",
   "execution_count": 6,
   "metadata": {},
   "outputs": [
    {
     "data": {
      "text/html": [
       "<table>\n",
       "<thead><tr><th scope=col>height</th><th scope=col>hand</th><th scope=col>foot</th><th scope=col>sex</th></tr></thead>\n",
       "<tbody>\n",
       "\t<tr><td>1760.2</td><td>208.6 </td><td>269.6 </td><td>male  </td></tr>\n",
       "\t<tr><td>1730.1</td><td>207.6 </td><td>251.3 </td><td>male  </td></tr>\n",
       "\t<tr><td>1659.6</td><td>173.2 </td><td>193.6 </td><td>male  </td></tr>\n",
       "\t<tr><td>1751.3</td><td>258.0 </td><td>223.8 </td><td>male  </td></tr>\n",
       "\t<tr><td>1780.6</td><td>212.3 </td><td>282.1 </td><td>male  </td></tr>\n",
       "\t<tr><td>1818.3</td><td>213.4 </td><td>268.0 </td><td>male  </td></tr>\n",
       "</tbody>\n",
       "</table>\n"
      ],
      "text/latex": [
       "\\begin{tabular}{r|llll}\n",
       " height & hand & foot & sex\\\\\n",
       "\\hline\n",
       "\t 1760.2 & 208.6  & 269.6  & male  \\\\\n",
       "\t 1730.1 & 207.6  & 251.3  & male  \\\\\n",
       "\t 1659.6 & 173.2  & 193.6  & male  \\\\\n",
       "\t 1751.3 & 258.0  & 223.8  & male  \\\\\n",
       "\t 1780.6 & 212.3  & 282.1  & male  \\\\\n",
       "\t 1818.3 & 213.4  & 268.0  & male  \\\\\n",
       "\\end{tabular}\n"
      ],
      "text/markdown": [
       "\n",
       "height | hand | foot | sex | \n",
       "|---|---|---|---|---|---|\n",
       "| 1760.2 | 208.6  | 269.6  | male   | \n",
       "| 1730.1 | 207.6  | 251.3  | male   | \n",
       "| 1659.6 | 173.2  | 193.6  | male   | \n",
       "| 1751.3 | 258.0  | 223.8  | male   | \n",
       "| 1780.6 | 212.3  | 282.1  | male   | \n",
       "| 1818.3 | 213.4  | 268.0  | male   | \n",
       "\n",
       "\n"
      ],
      "text/plain": [
       "  height hand  foot  sex \n",
       "1 1760.2 208.6 269.6 male\n",
       "2 1730.1 207.6 251.3 male\n",
       "3 1659.6 173.2 193.6 male\n",
       "4 1751.3 258.0 223.8 male\n",
       "5 1780.6 212.3 282.1 male\n",
       "6 1818.3 213.4 268.0 male"
      ]
     },
     "metadata": {},
     "output_type": "display_data"
    }
   ],
   "source": [
    "stature <- statdata %>%\n",
    "    mutate(sex = ifelse(gender==1,'male','female')) %>%\n",
    "    select(-gender)\n",
    "head(stature)"
   ]
  },
  {
   "cell_type": "markdown",
   "metadata": {},
   "source": [
    "Looks good to me!\n",
    "\n",
    "Now I want to get a sense of how my variables relate to each other. I'll accomplish this by calculating the correlation and plotting some basic plots."
   ]
  },
  {
   "cell_type": "code",
   "execution_count": 7,
   "metadata": {},
   "outputs": [
    {
     "data": {
      "image/png": "[encoded data removed]",
      "text/plain": [
       "plot without title"
      ]
     },
     "metadata": {},
     "output_type": "display_data"
    }
   ],
   "source": [
    "t <- tableGrob(round(cor(stature[,sapply(stature,is.numeric)]), digits=3))\n",
    "g1 <- ggplot(data=stature, aes(sex, height)) + geom_boxplot() + geom_jitter(width=.1, aes(color=sex))\n",
    "g2 <- ggplot(data=stature, aes(hand, height)) + geom_point(aes(color=sex))\n",
    "g3 <- ggplot(data=stature, aes(foot, height)) + geom_point(aes(color=sex))\n",
    "\n",
    "grid.arrange(g2, g3, g1, t, ncol=2)"
   ]
  },
  {
   "cell_type": "markdown",
   "metadata": {},
   "source": [
    "Looks pretty straightforward. The graphs for hand vs height and foot vs height show a pretty solid relationship in each. Really, hand looks like an extremely precise predictor of height, in all but a few cases! \n",
    "\n",
    "The box plot for sex vs height doesn't tell us much that we didn't expect - males tend to be taller than females, and there is a pretty natural-looking distribution of heights within both sexes. Although there is definitely a relationship between sex and height, it is pretty clear in the top two plots that this relationship is captured pretty well by the hand and foot variables, so I'm guessing at this point that sex is not going to be included in my final model.\n",
    "\n",
    "To quantify the top two relationships, we can see the correlation table in the bottom-right. But wait, why does foot have a higher correlation to height than hand does? It's pretty clear to me in the plots that hand should have a closer relationship. You know, I bet those couple of outliers are wreaking havoc on the correlation. I want to see what happens if I remove those two individuals with extreme outlier hand lengths."
   ]
  },
  {
   "cell_type": "code",
   "execution_count": 56,
   "metadata": {},
   "outputs": [
    {
     "data": {
      "text/html": [
       "'2 outliers removed'"
      ],
      "text/latex": [
       "'2 outliers removed'"
      ],
      "text/markdown": [
       "'2 outliers removed'"
      ],
      "text/plain": [
       "[1] \"2 outliers removed\""
      ]
     },
     "metadata": {},
     "output_type": "display_data"
    },
    {
     "data": {
      "image/png": "[encoded data removed]",
      "text/plain": [
       "plot without title"
      ]
     },
     "metadata": {},
     "output_type": "display_data"
    }
   ],
   "source": [
    "outlier <- stature[stature$hand <= 160 | stature$hand >= 240,]\n",
    "nooutlier <- stature[stature$hand > 160 & stature$hand < 240,]\n",
    "paste(nrow(stature)-nrow(nooutlier),\"outliers removed\")\n",
    "newt <- tableGrob(round(cor(nooutlier[,sapply(nooutlier,is.numeric)]), digits=3))\n",
    "g1 <- ggplot(data=nooutlier, aes(sex, height)) + geom_boxplot() + geom_jitter(width=.1)\n",
    "g2 <- ggplot(data=nooutlier, aes(hand, height)) + geom_point(aes(color=sex))\n",
    "g3 <- ggplot(data=nooutlier, aes(foot, height)) + geom_point(aes(color=sex))\n",
    "\n",
    "grid.arrange(g2, g3, t, newt, ncol=2)"
   ]
  },
  {
   "cell_type": "markdown",
   "metadata": {},
   "source": [
    "Wow! The correlation for hand vs height went up almost 10%! That's a nice correlation!\n",
    "\n",
    "Based on this knowledge, I'm going to do something that I'm not really sure if it's kosher in the modelling community, but I think it makes sense. I will deliberately exclude these two outliers from my training dataset, and other than them I will randomly assign people randomly to the training and testing.\n",
    "\n",
    "Another thing I've learned from seeing these graphs is that I'm definitely looking at linear relationships between these predictors and height. So now I'm going to go ahead and make some one-variable linear models.\n",
    "\n",
    "First I'll separate training and testing data. I'll arbitrarily choose 80% to 20% as the training to testing size."
   ]
  },
  {
   "cell_type": "code",
   "execution_count": 51,
   "metadata": {},
   "outputs": [
    {
     "data": {
      "text/html": [
       "<table>\n",
       "<thead><tr><th scope=col>height</th><th scope=col>hand</th><th scope=col>sex</th></tr></thead>\n",
       "<tbody>\n",
       "\t<tr><td>5.774934 </td><td> 8.212598</td><td>male     </td></tr>\n",
       "\t<tr><td>5.676181 </td><td> 8.173228</td><td>male     </td></tr>\n",
       "\t<tr><td>5.444882 </td><td> 6.818898</td><td>male     </td></tr>\n",
       "\t<tr><td>5.745735 </td><td>10.157480</td><td>male     </td></tr>\n",
       "\t<tr><td>5.841864 </td><td> 8.358268</td><td>male     </td></tr>\n",
       "\t<tr><td>5.965551 </td><td> 8.401575</td><td>male     </td></tr>\n",
       "</tbody>\n",
       "</table>\n"
      ],
      "text/latex": [
       "\\begin{tabular}{r|lll}\n",
       " height & hand & sex\\\\\n",
       "\\hline\n",
       "\t 5.774934  &  8.212598 & male     \\\\\n",
       "\t 5.676181  &  8.173228 & male     \\\\\n",
       "\t 5.444882  &  6.818898 & male     \\\\\n",
       "\t 5.745735  & 10.157480 & male     \\\\\n",
       "\t 5.841864  &  8.358268 & male     \\\\\n",
       "\t 5.965551  &  8.401575 & male     \\\\\n",
       "\\end{tabular}\n"
      ],
      "text/markdown": [
       "\n",
       "height | hand | sex | \n",
       "|---|---|---|---|---|---|\n",
       "| 5.774934  |  8.212598 | male      | \n",
       "| 5.676181  |  8.173228 | male      | \n",
       "| 5.444882  |  6.818898 | male      | \n",
       "| 5.745735  | 10.157480 | male      | \n",
       "| 5.841864  |  8.358268 | male      | \n",
       "| 5.965551  |  8.401575 | male      | \n",
       "\n",
       "\n"
      ],
      "text/plain": [
       "  height   hand      sex \n",
       "1 5.774934  8.212598 male\n",
       "2 5.676181  8.173228 male\n",
       "3 5.444882  6.818898 male\n",
       "4 5.745735 10.157480 male\n",
       "5 5.841864  8.358268 male\n",
       "6 5.965551  8.401575 male"
      ]
     },
     "metadata": {},
     "output_type": "display_data"
    }
   ],
   "source": [
    "# START HERE FOR CODE\n",
    "\n",
    "# Just a smidge of data cleaning\n",
    "statdata <- read.csv('stature-hand-foot.csv')\n",
    "colnames(statdata) <- c('gender', 'height', 'hand', 'foot')\n",
    "data <- statdata %>%\n",
    "    mutate(sex    = ifelse(gender==1, 'male', 'female'),\n",
    "           height = height/304.8,\n",
    "           hand   = hand/25.4) %>%\n",
    "    select(-gender, -foot)\n",
    "head(data)"
   ]
  },
  {
   "cell_type": "code",
   "execution_count": 52,
   "metadata": {},
   "outputs": [
    {
     "data": {
      "text/html": [
       "'Train size: 124 Test size: 31'"
      ],
      "text/latex": [
       "'Train size: 124 Test size: 31'"
      ],
      "text/markdown": [
       "'Train size: 124 Test size: 31'"
      ],
      "text/plain": [
       "[1] \"Train size: 124 Test size: 31\""
      ]
     },
     "metadata": {},
     "output_type": "display_data"
    },
    {
     "data": {
      "text/plain": [
       "\n",
       "Call:\n",
       "lm(formula = .outcome ~ ., data = dat)\n",
       "\n",
       "Residuals:\n",
       "     Min       1Q   Median       3Q      Max \n",
       "-0.30919 -0.03213 -0.00101  0.03275  0.62760 \n",
       "\n",
       "Coefficients:\n",
       "            Estimate Std. Error t value Pr(>|t|)    \n",
       "(Intercept)  0.30386    0.14479   2.099   0.0379 *  \n",
       "hand         0.66190    0.01832  36.132   <2e-16 ***\n",
       "---\n",
       "Signif. codes:  0 ‘***’ 0.001 ‘**’ 0.01 ‘*’ 0.05 ‘.’ 0.1 ‘ ’ 1\n",
       "\n",
       "Residual standard error: 0.09021 on 122 degrees of freedom\n",
       "Multiple R-squared:  0.9145,\tAdjusted R-squared:  0.9138 \n",
       "F-statistic:  1306 on 1 and 122 DF,  p-value: < 2.2e-16\n"
      ]
     },
     "metadata": {},
     "output_type": "display_data"
    }
   ],
   "source": [
    "# Generate training and testing dataset \n",
    "# Train a model\n",
    "set.seed(123)\n",
    "train_idx <- sample(seq_len(nrow(data)), nrow(data)*.8)\n",
    "train <- data[train_idx,]\n",
    "test <- data[-train_idx,]\n",
    "paste(\"Train size:\", nrow(train), \"Test size:\", nrow(test))\n",
    "\n",
    "hmod <- train(height ~ hand, train, method = \"lm\")\n",
    "summary(hmod) "
   ]
  },
  {
   "cell_type": "markdown",
   "metadata": {},
   "source": [
    "Now I'm going to generate a linear model for both height ~ hand and height ~ foot, even though it's pretty obvious that hand is going to outperform foot."
   ]
  },
  {
   "cell_type": "code",
   "execution_count": 96,
   "metadata": {},
   "outputs": [
    {
     "data": {
      "text/html": [
       "<table>\n",
       "<thead><tr><th></th><th scope=col>height</th><th scope=col>hand</th><th scope=col>sex</th><th scope=col>dist</th></tr></thead>\n",
       "<tbody>\n",
       "\t<tr><th scope=row>4</th><td>5.745735</td><td>10.15748</td><td>male    </td><td>2.303581</td></tr>\n",
       "\t<tr><th scope=row>84</th><td>5.089567</td><td> 5.26378</td><td>female  </td><td>2.590119</td></tr>\n",
       "</tbody>\n",
       "</table>\n"
      ],
      "text/latex": [
       "\\begin{tabular}{r|llll}\n",
       "  & height & hand & sex & dist\\\\\n",
       "\\hline\n",
       "\t4 & 5.745735 & 10.15748 & male     & 2.303581\\\\\n",
       "\t84 & 5.089567 &  5.26378 & female   & 2.590119\\\\\n",
       "\\end{tabular}\n"
      ],
      "text/markdown": [
       "\n",
       "| <!--/--> | height | hand | sex | dist | \n",
       "|---|---|\n",
       "| 4 | 5.745735 | 10.15748 | male     | 2.303581 | \n",
       "| 84 | 5.089567 |  5.26378 | female   | 2.590119 | \n",
       "\n",
       "\n"
      ],
      "text/plain": [
       "   height   hand     sex    dist    \n",
       "4  5.745735 10.15748 male   2.303581\n",
       "84 5.089567  5.26378 female 2.590119"
      ]
     },
     "metadata": {},
     "output_type": "display_data"
    },
    {
     "data": {
      "text/html": [
       "'Train size: 122 Test size: 33'"
      ],
      "text/latex": [
       "'Train size: 122 Test size: 33'"
      ],
      "text/markdown": [
       "'Train size: 122 Test size: 33'"
      ],
      "text/plain": [
       "[1] \"Train size: 122 Test size: 33\""
      ]
     },
     "metadata": {},
     "output_type": "display_data"
    },
    {
     "data": {
      "text/plain": [
       "\n",
       "Call:\n",
       "lm(formula = .outcome ~ ., data = dat)\n",
       "\n",
       "Residuals:\n",
       "     Min       1Q   Median       3Q      Max \n",
       "-0.30259 -0.03768 -0.00507  0.03643  0.60978 \n",
       "\n",
       "Coefficients:\n",
       "            Estimate Std. Error t value Pr(>|t|)    \n",
       "(Intercept)  0.42384    0.14167   2.992  0.00337 ** \n",
       "hand         0.64692    0.01808  35.788  < 2e-16 ***\n",
       "---\n",
       "Signif. codes:  0 ‘***’ 0.001 ‘**’ 0.01 ‘*’ 0.05 ‘.’ 0.1 ‘ ’ 1\n",
       "\n",
       "Residual standard error: 0.08974 on 120 degrees of freedom\n",
       "Multiple R-squared:  0.9143,\tAdjusted R-squared:  0.9136 \n",
       "F-statistic:  1281 on 1 and 120 DF,  p-value: < 2.2e-16\n"
      ]
     },
     "metadata": {},
     "output_type": "display_data"
    }
   ],
   "source": [
    "# Generate training and testing dataset for the NO (no outlier) attempt\n",
    "# Train another model.\n",
    "data.no <- data[data$hand > 6.3 & data$hand < 9.4,]\n",
    "outliers <- data[data$hand <= 6.3 | data$hand >= 9.4,]\n",
    "outliers\n",
    "\n",
    "set.seed(123)\n",
    "train_idx <- sample(seq_len(nrow(data.no)), nrow(data.no)*.8)\n",
    "train <- data.no[train_idx,]\n",
    "test <- rbind(data.no[-train_idx,], outliers)\n",
    "paste(\"Train size:\", nrow(train), \"Test size:\", nrow(test))\n",
    "hmod.no <- train(height ~ hand , train, method = \"lm\")\n",
    "summary(hmod.no) "
   ]
  },
  {
   "cell_type": "code",
   "execution_count": 80,
   "metadata": {},
   "outputs": [
    {
     "data": {
      "text/html": [
       "4.87303149606299"
      ],
      "text/latex": [
       "4.87303149606299"
      ],
      "text/markdown": [
       "4.87303149606299"
      ],
      "text/plain": [
       "[1] 4.873031"
      ]
     },
     "metadata": {},
     "output_type": "display_data"
    },
    {
     "data": {
      "text/html": [
       "6.19652230971129"
      ],
      "text/latex": [
       "6.19652230971129"
      ],
      "text/markdown": [
       "6.19652230971129"
      ],
      "text/plain": [
       "[1] 6.196522"
      ]
     },
     "metadata": {},
     "output_type": "display_data"
    },
    {
     "data": {
      "text/html": [
       "5.26377952755905"
      ],
      "text/latex": [
       "5.26377952755905"
      ],
      "text/markdown": [
       "5.26377952755905"
      ],
      "text/plain": [
       "[1] 5.26378"
      ]
     },
     "metadata": {},
     "output_type": "display_data"
    },
    {
     "data": {
      "text/html": [
       "10.1574803149606"
      ],
      "text/latex": [
       "10.1574803149606"
      ],
      "text/markdown": [
       "10.1574803149606"
      ],
      "text/plain": [
       "[1] 10.15748"
      ]
     },
     "metadata": {},
     "output_type": "display_data"
    },
    {
     "data": {
      "text/html": [
       "3.78795321630046"
      ],
      "text/latex": [
       "3.78795321630046"
      ],
      "text/markdown": [
       "3.78795321630046"
      ],
      "text/plain": [
       "[1] 3.787953"
      ]
     },
     "metadata": {},
     "output_type": "display_data"
    },
    {
     "data": {
      "text/html": [
       "7.02709352109576"
      ],
      "text/latex": [
       "7.02709352109576"
      ],
      "text/markdown": [
       "7.02709352109576"
      ],
      "text/plain": [
       "[1] 7.027094"
      ]
     },
     "metadata": {},
     "output_type": "display_data"
    },
    {
     "data": {
      "text/html": [
       "'\"'"
      ],
      "text/latex": [
       "'\"'"
      ],
      "text/markdown": [
       "'\"'"
      ],
      "text/plain": [
       "[1] \"\\\"\""
      ]
     },
     "metadata": {},
     "output_type": "display_data"
    }
   ],
   "source": [
    "min(data$height)\n",
    "max(data$height)\n",
    "\n",
    "min(data$hand)\n",
    "max(data$hand)\n",
    "\n",
    "pred <- predict(hmod, newdata=data)\n",
    "min(pred)\n",
    "max(pred)\n",
    "'\\\"'"
   ]
  },
  {
   "cell_type": "code",
   "execution_count": 212,
   "metadata": {},
   "outputs": [],
   "source": [
    "plot.errors <- function(alldata, data.no, model, rmsd, filename) {\n",
    "    rmsd <- round(rmsd, 5)\n",
    "    bestfit.int <- summary(model)$coefficients['(Intercept)', 'Estimate']\n",
    "    bestfit.slope <- summary(model)$coefficients['hand', 'Estimate']\n",
    "    \n",
    "    data.no$predicted <- predict(model, newdata = data.no)\n",
    "    coords <- data.no %>% \n",
    "        mutate(grp = row_number()) %>% \n",
    "        select(grp, hand, height, predicted) %>%\n",
    "        rename(actual = height) %>%\n",
    "        gather(h.type, height, actual, predicted) \n",
    "    \n",
    "    g <- ggplot(data=alldata, aes(hand, height)) + \n",
    "        geom_line(data=coords, aes(hand, height, group = grp), size=0.25) +\n",
    "        geom_abline(slope = bestfit.slope, intercept = bestfit.int) +\n",
    "        geom_point(aes(color=sex)) +\n",
    "        geom_label(data = data.frame(), aes(x = 7.75, y = 4.9, label = paste(\"RMSD:\", rmsd)), size = 5, hjust = 0) +\n",
    "    \n",
    "        # Reduced figure limits\n",
    "        scale_x_continuous(limits = c(6.75, 9), expand = c(0, 0)) +\n",
    "        scale_y_continuous(limits = c(4.75, 6.25), expand = c(0, 0), \n",
    "                           breaks=seq(4, 7, 0.5), labels=c(\"4'0\\\"\", \"4'6\\\"\", \"5'0\\\"\", \"5'6\\\"\", \"6'0\\\"\", \"6'6\\\"\", \"7'0\\\"\")) +\n",
    "        \n",
    "        # Full figure limits\n",
    "        #scale_x_continuous(limits = c(5, 10.5), expand = c(0, 0)) +\n",
    "        #scale_y_continuous(limits = c(3.78, 7.03), expand = c(0, 0), \n",
    "        #                   breaks=seq(4, 7, 0.5), labels=c(\"4'0\\\"\", \"4'6\\\"\", \"5'0\\\"\", \"5'6\\\"\", \"6'0\\\"\", \"6'6\\\"\", \"7'0\\\"\")) +\n",
    "    \n",
    "        labs(x = 'Hand Size (in)', y = 'Height') +\n",
    "        scale_color_manual(values=c(\"#ED58BD\",\"#34B0C2\")) +\n",
    "        \n",
    "        theme_Publication() +\n",
    "        theme(\n",
    "            legend.justification = c(1,0), legend.position = c(0.95,0.05)\n",
    "        )\n",
    "    ggsave(file=filename, g, dpi=100)\n",
    "    return(g)\n",
    "}\n",
    "#plot.errors(data, data.no, hmod.no, 0.135951231, \"\")"
   ]
  },
  {
   "cell_type": "code",
   "execution_count": 213,
   "metadata": {},
   "outputs": [],
   "source": [
    "plot.timeline <- function(series, filename) {\n",
    "    t <- ggplot(data=series, aes(x=outliers, y=RMSD)) +\n",
    "        geom_line(color='red', size=0.75) +\n",
    "        scale_x_continuous(limits=c(0,80), expand=c(0,0), breaks=c(0,20,40,60,80)) +\n",
    "        scale_y_continuous(limits=c(0.045, 0.123), expand=c(0,0)) +\n",
    "        labs(x = 'Outliers', y = 'RMSD') +\n",
    "        theme_Publication() +\n",
    "        theme(\n",
    "            panel.grid.major = element_blank()\n",
    "            )\n",
    "    t\n",
    "    ggsave(file=filename, t, height=2, width=3, dpi=100)\n",
    "}\n",
    "plot.timeline(results, \"timeline.png\")"
   ]
  },
  {
   "cell_type": "code",
   "execution_count": 214,
   "metadata": {},
   "outputs": [
    {
     "name": "stdout",
     "output_type": "stream",
     "text": [
      "Test: 6.97637795275591 -> 8.96456692913386 \n"
     ]
    },
    {
     "data": {
      "text/html": [
       "'Train size: 124 Test size: 31'"
      ],
      "text/latex": [
       "'Train size: 124 Test size: 31'"
      ],
      "text/markdown": [
       "'Train size: 124 Test size: 31'"
      ],
      "text/plain": [
       "[1] \"Train size: 124 Test size: 31\""
      ]
     },
     "metadata": {},
     "output_type": "display_data"
    },
    {
     "name": "stdout",
     "output_type": "stream",
     "text": [
      "Train: 5.26377952755905 -> 10.1574803149606 \n"
     ]
    },
    {
     "name": "stderr",
     "output_type": "stream",
     "text": [
      "Saving 6.67 x 6.67 in image\n",
      "Warning message:\n",
      "“Removed 2 rows containing missing values (geom_point).”geom_path: Each group consists of only one observation. Do you need to adjust\n",
      "the group aesthetic?\n"
     ]
    },
    {
     "name": "stdout",
     "output_type": "stream",
     "text": [
      "Train: 6.81889763779528 -> 10.1574803149606 \n"
     ]
    },
    {
     "name": "stderr",
     "output_type": "stream",
     "text": [
      "Saving 6.67 x 6.67 in image\n",
      "Warning message:\n",
      "“Removed 2 rows containing missing values (geom_point).”"
     ]
    },
    {
     "name": "stdout",
     "output_type": "stream",
     "text": [
      "Train: 6.81889763779528 -> 8.67322834645669 \n"
     ]
    },
    {
     "name": "stderr",
     "output_type": "stream",
     "text": [
      "Saving 6.67 x 6.67 in image\n",
      "Warning message:\n",
      "“Removed 2 rows containing missing values (geom_point).”"
     ]
    },
    {
     "name": "stdout",
     "output_type": "stream",
     "text": [
      "Train: 6.84645669291339 -> 8.67322834645669 \n"
     ]
    },
    {
     "name": "stderr",
     "output_type": "stream",
     "text": [
      "Saving 6.67 x 6.67 in image\n",
      "Warning message:\n",
      "“Removed 1 rows containing missing values (geom_path).”Warning message:\n",
      "“Removed 2 rows containing missing values (geom_point).”"
     ]
    },
    {
     "name": "stdout",
     "output_type": "stream",
     "text": [
      "Train: 6.85433070866142 -> 8.67322834645669 \n"
     ]
    },
    {
     "name": "stderr",
     "output_type": "stream",
     "text": [
      "Saving 6.67 x 6.67 in image\n",
      "Warning message:\n",
      "“Removed 1 rows containing missing values (geom_path).”Warning message:\n",
      "“Removed 2 rows containing missing values (geom_point).”"
     ]
    },
    {
     "name": "stdout",
     "output_type": "stream",
     "text": [
      "Train: 7.03149606299213 -> 8.67322834645669 \n"
     ]
    },
    {
     "name": "stderr",
     "output_type": "stream",
     "text": [
      "Saving 6.67 x 6.67 in image\n",
      "Warning message:\n",
      "“Removed 1 rows containing missing values (geom_path).”Warning message:\n",
      "“Removed 2 rows containing missing values (geom_point).”"
     ]
    },
    {
     "name": "stdout",
     "output_type": "stream",
     "text": [
      "Train: 7.03149606299213 -> 8.60236220472441 \n"
     ]
    },
    {
     "name": "stderr",
     "output_type": "stream",
     "text": [
      "Saving 6.67 x 6.67 in image\n",
      "Warning message:\n",
      "“Removed 1 rows containing missing values (geom_path).”Warning message:\n",
      "“Removed 2 rows containing missing values (geom_point).”"
     ]
    },
    {
     "name": "stdout",
     "output_type": "stream",
     "text": [
      "Train: 7.04330708661417 -> 8.60236220472441 \n"
     ]
    },
    {
     "name": "stderr",
     "output_type": "stream",
     "text": [
      "Saving 6.67 x 6.67 in image\n",
      "Warning message:\n",
      "“Removed 1 rows containing missing values (geom_path).”Warning message:\n",
      "“Removed 2 rows containing missing values (geom_point).”"
     ]
    },
    {
     "name": "stdout",
     "output_type": "stream",
     "text": [
      "Train: 7.16929133858268 -> 8.60236220472441 \n"
     ]
    },
    {
     "name": "stderr",
     "output_type": "stream",
     "text": [
      "Saving 6.67 x 6.67 in image\n",
      "Warning message:\n",
      "“Removed 1 rows containing missing values (geom_path).”Warning message:\n",
      "“Removed 2 rows containing missing values (geom_point).”"
     ]
    },
    {
     "name": "stdout",
     "output_type": "stream",
     "text": [
      "Train: 7.16929133858268 -> 8.59448818897638 \n"
     ]
    },
    {
     "name": "stderr",
     "output_type": "stream",
     "text": [
      "Saving 6.67 x 6.67 in image\n",
      "Warning message:\n",
      "“Removed 1 rows containing missing values (geom_path).”Warning message:\n",
      "“Removed 2 rows containing missing values (geom_point).”"
     ]
    },
    {
     "name": "stdout",
     "output_type": "stream",
     "text": [
      "Train: 7.16929133858268 -> 8.47244094488189 \n"
     ]
    },
    {
     "name": "stderr",
     "output_type": "stream",
     "text": [
      "Saving 6.67 x 6.67 in image\n",
      "Warning message:\n",
      "“Removed 1 rows containing missing values (geom_path).”Warning message:\n",
      "“Removed 2 rows containing missing values (geom_point).”"
     ]
    },
    {
     "name": "stdout",
     "output_type": "stream",
     "text": [
      "Train: 7.19291338582677 -> 8.47244094488189 \n"
     ]
    },
    {
     "name": "stderr",
     "output_type": "stream",
     "text": [
      "Saving 6.67 x 6.67 in image\n",
      "Warning message:\n",
      "“Removed 1 rows containing missing values (geom_path).”Warning message:\n",
      "“Removed 2 rows containing missing values (geom_point).”"
     ]
    },
    {
     "name": "stdout",
     "output_type": "stream",
     "text": [
      "Train: 7.19291338582677 -> 8.45669291338583 \n"
     ]
    },
    {
     "name": "stderr",
     "output_type": "stream",
     "text": [
      "Saving 6.67 x 6.67 in image\n",
      "Warning message:\n",
      "“Removed 1 rows containing missing values (geom_path).”Warning message:\n",
      "“Removed 2 rows containing missing values (geom_point).”"
     ]
    },
    {
     "name": "stdout",
     "output_type": "stream",
     "text": [
      "Train: 7.26771653543307 -> 8.45669291338583 \n"
     ]
    },
    {
     "name": "stderr",
     "output_type": "stream",
     "text": [
      "Saving 6.67 x 6.67 in image\n",
      "Warning message:\n",
      "“Removed 1 rows containing missing values (geom_path).”Warning message:\n",
      "“Removed 2 rows containing missing values (geom_point).”"
     ]
    },
    {
     "name": "stdout",
     "output_type": "stream",
     "text": [
      "Train: 7.26771653543307 -> 8.4488188976378 \n"
     ]
    },
    {
     "name": "stderr",
     "output_type": "stream",
     "text": [
      "Saving 6.67 x 6.67 in image\n",
      "Warning message:\n",
      "“Removed 1 rows containing missing values (geom_path).”Warning message:\n",
      "“Removed 2 rows containing missing values (geom_point).”"
     ]
    },
    {
     "name": "stdout",
     "output_type": "stream",
     "text": [
      "Train: 7.26771653543307 -> 8.4488188976378 \n"
     ]
    },
    {
     "name": "stderr",
     "output_type": "stream",
     "text": [
      "Saving 6.67 x 6.67 in image\n",
      "Warning message:\n",
      "“Removed 1 rows containing missing values (geom_path).”Warning message:\n",
      "“Removed 2 rows containing missing values (geom_point).”"
     ]
    },
    {
     "name": "stdout",
     "output_type": "stream",
     "text": [
      "Train: 7.26771653543307 -> 8.43307086614173 \n"
     ]
    },
    {
     "name": "stderr",
     "output_type": "stream",
     "text": [
      "Saving 6.67 x 6.67 in image\n",
      "Warning message:\n",
      "“Removed 1 rows containing missing values (geom_path).”Warning message:\n",
      "“Removed 2 rows containing missing values (geom_point).”"
     ]
    },
    {
     "name": "stdout",
     "output_type": "stream",
     "text": [
      "Train: 7.26771653543307 -> 8.42125984251969 \n"
     ]
    },
    {
     "name": "stderr",
     "output_type": "stream",
     "text": [
      "Saving 6.67 x 6.67 in image\n",
      "Warning message:\n",
      "“Removed 1 rows containing missing values (geom_path).”Warning message:\n",
      "“Removed 2 rows containing missing values (geom_point).”"
     ]
    },
    {
     "name": "stdout",
     "output_type": "stream",
     "text": [
      "Train: 7.26771653543307 -> 8.41338582677165 \n"
     ]
    },
    {
     "name": "stderr",
     "output_type": "stream",
     "text": [
      "Saving 6.67 x 6.67 in image\n",
      "Warning message:\n",
      "“Removed 1 rows containing missing values (geom_path).”Warning message:\n",
      "“Removed 2 rows containing missing values (geom_point).”"
     ]
    },
    {
     "name": "stdout",
     "output_type": "stream",
     "text": [
      "Train: 7.26771653543307 -> 8.40157480314961 \n"
     ]
    },
    {
     "name": "stderr",
     "output_type": "stream",
     "text": [
      "Saving 6.67 x 6.67 in image\n",
      "Warning message:\n",
      "“Removed 1 rows containing missing values (geom_path).”Warning message:\n",
      "“Removed 2 rows containing missing values (geom_point).”"
     ]
    },
    {
     "name": "stdout",
     "output_type": "stream",
     "text": [
      "Train: 7.26771653543307 -> 8.40157480314961 \n"
     ]
    },
    {
     "name": "stderr",
     "output_type": "stream",
     "text": [
      "Saving 6.67 x 6.67 in image\n",
      "Warning message:\n",
      "“Removed 1 rows containing missing values (geom_path).”Warning message:\n",
      "“Removed 2 rows containing missing values (geom_point).”"
     ]
    },
    {
     "name": "stdout",
     "output_type": "stream",
     "text": [
      "Train: 7.26771653543307 -> 8.39763779527559 \n"
     ]
    },
    {
     "name": "stderr",
     "output_type": "stream",
     "text": [
      "Saving 6.67 x 6.67 in image\n",
      "Warning message:\n",
      "“Removed 1 rows containing missing values (geom_path).”Warning message:\n",
      "“Removed 2 rows containing missing values (geom_point).”"
     ]
    },
    {
     "name": "stdout",
     "output_type": "stream",
     "text": [
      "Train: 7.26771653543307 -> 8.39370078740157 \n"
     ]
    },
    {
     "name": "stderr",
     "output_type": "stream",
     "text": [
      "Saving 6.67 x 6.67 in image\n",
      "Warning message:\n",
      "“Removed 1 rows containing missing values (geom_path).”Warning message:\n",
      "“Removed 2 rows containing missing values (geom_point).”"
     ]
    },
    {
     "name": "stdout",
     "output_type": "stream",
     "text": [
      "Train: 7.26771653543307 -> 8.37007874015748 \n"
     ]
    },
    {
     "name": "stderr",
     "output_type": "stream",
     "text": [
      "Saving 6.67 x 6.67 in image\n",
      "Warning message:\n",
      "“Removed 1 rows containing missing values (geom_path).”Warning message:\n",
      "“Removed 2 rows containing missing values (geom_point).”"
     ]
    },
    {
     "name": "stdout",
     "output_type": "stream",
     "text": [
      "Train: 7.27165354330709 -> 8.37007874015748 \n"
     ]
    },
    {
     "name": "stderr",
     "output_type": "stream",
     "text": [
      "Saving 6.67 x 6.67 in image\n",
      "Warning message:\n",
      "“Removed 1 rows containing missing values (geom_path).”Warning message:\n",
      "“Removed 2 rows containing missing values (geom_point).”"
     ]
    },
    {
     "name": "stdout",
     "output_type": "stream",
     "text": [
      "Train: 7.27952755905512 -> 8.37007874015748 \n"
     ]
    },
    {
     "name": "stderr",
     "output_type": "stream",
     "text": [
      "Saving 6.67 x 6.67 in image\n",
      "Warning message:\n",
      "“Removed 1 rows containing missing values (geom_path).”Warning message:\n",
      "“Removed 2 rows containing missing values (geom_point).”"
     ]
    },
    {
     "name": "stdout",
     "output_type": "stream",
     "text": [
      "Train: 7.27952755905512 -> 8.37007874015748 \n"
     ]
    },
    {
     "name": "stderr",
     "output_type": "stream",
     "text": [
      "Saving 6.67 x 6.67 in image\n",
      "Warning message:\n",
      "“Removed 1 rows containing missing values (geom_path).”Warning message:\n",
      "“Removed 2 rows containing missing values (geom_point).”"
     ]
    },
    {
     "name": "stdout",
     "output_type": "stream",
     "text": [
      "Train: 7.31889763779528 -> 8.37007874015748 \n"
     ]
    },
    {
     "name": "stderr",
     "output_type": "stream",
     "text": [
      "Saving 6.67 x 6.67 in image\n",
      "Warning message:\n",
      "“Removed 1 rows containing missing values (geom_path).”Warning message:\n",
      "“Removed 2 rows containing missing values (geom_point).”"
     ]
    },
    {
     "name": "stdout",
     "output_type": "stream",
     "text": [
      "Train: 7.31889763779528 -> 8.36614173228346 \n"
     ]
    },
    {
     "name": "stderr",
     "output_type": "stream",
     "text": [
      "Saving 6.67 x 6.67 in image\n",
      "Warning message:\n",
      "“Removed 1 rows containing missing values (geom_path).”Warning message:\n",
      "“Removed 2 rows containing missing values (geom_point).”"
     ]
    },
    {
     "name": "stdout",
     "output_type": "stream",
     "text": [
      "Train: 7.31889763779528 -> 8.35826771653543 \n"
     ]
    },
    {
     "name": "stderr",
     "output_type": "stream",
     "text": [
      "Saving 6.67 x 6.67 in image\n",
      "Warning message:\n",
      "“Removed 1 rows containing missing values (geom_path).”Warning message:\n",
      "“Removed 2 rows containing missing values (geom_point).”"
     ]
    },
    {
     "name": "stdout",
     "output_type": "stream",
     "text": [
      "Train: 7.31889763779528 -> 8.33858267716536 \n"
     ]
    },
    {
     "name": "stderr",
     "output_type": "stream",
     "text": [
      "Saving 6.67 x 6.67 in image\n",
      "Warning message:\n",
      "“Removed 1 rows containing missing values (geom_path).”Warning message:\n",
      "“Removed 2 rows containing missing values (geom_point).”"
     ]
    },
    {
     "name": "stdout",
     "output_type": "stream",
     "text": [
      "Train: 7.31889763779528 -> 8.31496062992126 \n"
     ]
    },
    {
     "name": "stderr",
     "output_type": "stream",
     "text": [
      "Saving 6.67 x 6.67 in image\n",
      "Warning message:\n",
      "“Removed 2 rows containing missing values (geom_point).”"
     ]
    },
    {
     "name": "stdout",
     "output_type": "stream",
     "text": [
      "Train: 7.33858267716535 -> 8.31496062992126 \n"
     ]
    },
    {
     "name": "stderr",
     "output_type": "stream",
     "text": [
      "Saving 6.67 x 6.67 in image\n",
      "Warning message:\n",
      "“Removed 2 rows containing missing values (geom_point).”"
     ]
    },
    {
     "name": "stdout",
     "output_type": "stream",
     "text": [
      "Train: 7.33858267716535 -> 8.30314960629921 \n"
     ]
    },
    {
     "name": "stderr",
     "output_type": "stream",
     "text": [
      "Saving 6.67 x 6.67 in image\n",
      "Warning message:\n",
      "“Removed 2 rows containing missing values (geom_point).”"
     ]
    },
    {
     "name": "stdout",
     "output_type": "stream",
     "text": [
      "Train: 7.35433070866142 -> 8.30314960629921 \n"
     ]
    },
    {
     "name": "stderr",
     "output_type": "stream",
     "text": [
      "Saving 6.67 x 6.67 in image\n",
      "Warning message:\n",
      "“Removed 2 rows containing missing values (geom_point).”"
     ]
    },
    {
     "name": "stdout",
     "output_type": "stream",
     "text": [
      "Train: 7.35433070866142 -> 8.29133858267716 \n"
     ]
    },
    {
     "name": "stderr",
     "output_type": "stream",
     "text": [
      "Saving 6.67 x 6.67 in image\n",
      "Warning message:\n",
      "“Removed 2 rows containing missing values (geom_point).”"
     ]
    },
    {
     "name": "stdout",
     "output_type": "stream",
     "text": [
      "Train: 7.38188976377953 -> 8.29133858267716 \n"
     ]
    },
    {
     "name": "stderr",
     "output_type": "stream",
     "text": [
      "Saving 6.67 x 6.67 in image\n",
      "Warning message:\n",
      "“Removed 2 rows containing missing values (geom_point).”"
     ]
    },
    {
     "name": "stdout",
     "output_type": "stream",
     "text": [
      "Train: 7.38188976377953 -> 8.28740157480315 \n"
     ]
    },
    {
     "name": "stderr",
     "output_type": "stream",
     "text": [
      "Saving 6.67 x 6.67 in image\n",
      "Warning message:\n",
      "“Removed 2 rows containing missing values (geom_point).”"
     ]
    },
    {
     "name": "stdout",
     "output_type": "stream",
     "text": [
      "Train: 7.38188976377953 -> 8.28346456692914 \n"
     ]
    },
    {
     "name": "stderr",
     "output_type": "stream",
     "text": [
      "Saving 6.67 x 6.67 in image\n",
      "Warning message:\n",
      "“Removed 2 rows containing missing values (geom_point).”"
     ]
    },
    {
     "name": "stdout",
     "output_type": "stream",
     "text": [
      "Train: 7.38188976377953 -> 8.26377952755906 \n"
     ]
    },
    {
     "name": "stderr",
     "output_type": "stream",
     "text": [
      "Saving 6.67 x 6.67 in image\n",
      "Warning message:\n",
      "“Removed 2 rows containing missing values (geom_point).”"
     ]
    },
    {
     "name": "stdout",
     "output_type": "stream",
     "text": [
      "Train: 7.38188976377953 -> 8.26377952755906 \n"
     ]
    },
    {
     "name": "stderr",
     "output_type": "stream",
     "text": [
      "Saving 6.67 x 6.67 in image\n",
      "Warning message:\n",
      "“Removed 2 rows containing missing values (geom_point).”"
     ]
    },
    {
     "name": "stdout",
     "output_type": "stream",
     "text": [
      "Train: 7.40157480314961 -> 8.26377952755906 \n"
     ]
    },
    {
     "name": "stderr",
     "output_type": "stream",
     "text": [
      "Saving 6.67 x 6.67 in image\n",
      "Warning message:\n",
      "“Removed 2 rows containing missing values (geom_point).”"
     ]
    },
    {
     "name": "stdout",
     "output_type": "stream",
     "text": [
      "Train: 7.40157480314961 -> 8.22834645669291 \n"
     ]
    },
    {
     "name": "stderr",
     "output_type": "stream",
     "text": [
      "Saving 6.67 x 6.67 in image\n",
      "Warning message:\n",
      "“Removed 2 rows containing missing values (geom_point).”"
     ]
    },
    {
     "name": "stdout",
     "output_type": "stream",
     "text": [
      "Train: 7.40944881889764 -> 8.22834645669291 \n"
     ]
    },
    {
     "name": "stderr",
     "output_type": "stream",
     "text": [
      "Saving 6.67 x 6.67 in image\n",
      "Warning message:\n",
      "“Removed 2 rows containing missing values (geom_point).”"
     ]
    },
    {
     "name": "stdout",
     "output_type": "stream",
     "text": [
      "Train: 7.41732283464567 -> 8.22834645669291 \n"
     ]
    },
    {
     "name": "stderr",
     "output_type": "stream",
     "text": [
      "Saving 6.67 x 6.67 in image\n",
      "Warning message:\n",
      "“Removed 2 rows containing missing values (geom_point).”"
     ]
    },
    {
     "name": "stdout",
     "output_type": "stream",
     "text": [
      "Train: 7.42125984251969 -> 8.22834645669291 \n"
     ]
    },
    {
     "name": "stderr",
     "output_type": "stream",
     "text": [
      "Saving 6.67 x 6.67 in image\n",
      "Warning message:\n",
      "“Removed 2 rows containing missing values (geom_point).”"
     ]
    },
    {
     "name": "stdout",
     "output_type": "stream",
     "text": [
      "Train: 7.42125984251969 -> 8.22834645669291 \n"
     ]
    },
    {
     "name": "stderr",
     "output_type": "stream",
     "text": [
      "Saving 6.67 x 6.67 in image\n",
      "Warning message:\n",
      "“Removed 2 rows containing missing values (geom_point).”"
     ]
    },
    {
     "name": "stdout",
     "output_type": "stream",
     "text": [
      "Train: 7.4251968503937 -> 8.22834645669291 \n"
     ]
    },
    {
     "name": "stderr",
     "output_type": "stream",
     "text": [
      "Saving 6.67 x 6.67 in image\n",
      "Warning message:\n",
      "“Removed 2 rows containing missing values (geom_point).”"
     ]
    },
    {
     "name": "stdout",
     "output_type": "stream",
     "text": [
      "Train: 7.4251968503937 -> 8.22047244094488 \n"
     ]
    },
    {
     "name": "stderr",
     "output_type": "stream",
     "text": [
      "Saving 6.67 x 6.67 in image\n",
      "Warning message:\n",
      "“Removed 2 rows containing missing values (geom_point).”"
     ]
    },
    {
     "name": "stdout",
     "output_type": "stream",
     "text": [
      "Train: 7.43700787401575 -> 8.22047244094488 \n"
     ]
    },
    {
     "name": "stderr",
     "output_type": "stream",
     "text": [
      "Saving 6.67 x 6.67 in image\n",
      "Warning message:\n",
      "“Removed 2 rows containing missing values (geom_point).”"
     ]
    },
    {
     "name": "stdout",
     "output_type": "stream",
     "text": [
      "Train: 7.43700787401575 -> 8.21653543307087 \n"
     ]
    },
    {
     "name": "stderr",
     "output_type": "stream",
     "text": [
      "Saving 6.67 x 6.67 in image\n",
      "Warning message:\n",
      "“Removed 2 rows containing missing values (geom_point).”"
     ]
    },
    {
     "name": "stdout",
     "output_type": "stream",
     "text": [
      "Train: 7.43700787401575 -> 8.21259842519685 \n"
     ]
    },
    {
     "name": "stderr",
     "output_type": "stream",
     "text": [
      "Saving 6.67 x 6.67 in image\n",
      "Warning message:\n",
      "“Removed 2 rows containing missing values (geom_point).”"
     ]
    },
    {
     "name": "stdout",
     "output_type": "stream",
     "text": [
      "Train: 7.44094488188976 -> 8.21259842519685 \n"
     ]
    },
    {
     "name": "stderr",
     "output_type": "stream",
     "text": [
      "Saving 6.67 x 6.67 in image\n",
      "Warning message:\n",
      "“Removed 2 rows containing missing values (geom_point).”"
     ]
    },
    {
     "name": "stdout",
     "output_type": "stream",
     "text": [
      "Train: 7.44094488188976 -> 8.19685039370079 \n"
     ]
    },
    {
     "name": "stderr",
     "output_type": "stream",
     "text": [
      "Saving 6.67 x 6.67 in image\n",
      "Warning message:\n",
      "“Removed 2 rows containing missing values (geom_point).”"
     ]
    },
    {
     "name": "stdout",
     "output_type": "stream",
     "text": [
      "Train: 7.44488188976378 -> 8.19685039370079 \n"
     ]
    },
    {
     "name": "stderr",
     "output_type": "stream",
     "text": [
      "Saving 6.67 x 6.67 in image\n",
      "Warning message:\n",
      "“Removed 2 rows containing missing values (geom_point).”"
     ]
    },
    {
     "name": "stdout",
     "output_type": "stream",
     "text": [
      "Train: 7.44488188976378 -> 8.19685039370079 \n"
     ]
    },
    {
     "name": "stderr",
     "output_type": "stream",
     "text": [
      "Saving 6.67 x 6.67 in image\n",
      "Warning message:\n",
      "“Removed 2 rows containing missing values (geom_point).”"
     ]
    },
    {
     "name": "stdout",
     "output_type": "stream",
     "text": [
      "Train: 7.4488188976378 -> 8.19685039370079 \n"
     ]
    },
    {
     "name": "stderr",
     "output_type": "stream",
     "text": [
      "Saving 6.67 x 6.67 in image\n",
      "Warning message:\n",
      "“Removed 2 rows containing missing values (geom_point).”"
     ]
    },
    {
     "name": "stdout",
     "output_type": "stream",
     "text": [
      "Train: 7.45275590551181 -> 8.19685039370079 \n"
     ]
    },
    {
     "name": "stderr",
     "output_type": "stream",
     "text": [
      "Saving 6.67 x 6.67 in image\n",
      "Warning message:\n",
      "“Removed 2 rows containing missing values (geom_point).”"
     ]
    },
    {
     "name": "stdout",
     "output_type": "stream",
     "text": [
      "Train: 7.46062992125984 -> 8.19685039370079 \n"
     ]
    },
    {
     "name": "stderr",
     "output_type": "stream",
     "text": [
      "Saving 6.67 x 6.67 in image\n",
      "Warning message:\n",
      "“Removed 2 rows containing missing values (geom_point).”"
     ]
    },
    {
     "name": "stdout",
     "output_type": "stream",
     "text": [
      "Train: 7.46062992125984 -> 8.18897637795276 \n"
     ]
    },
    {
     "name": "stderr",
     "output_type": "stream",
     "text": [
      "Saving 6.67 x 6.67 in image\n",
      "Warning message:\n",
      "“Removed 2 rows containing missing values (geom_point).”"
     ]
    },
    {
     "name": "stdout",
     "output_type": "stream",
     "text": [
      "Train: 7.46062992125984 -> 8.18897637795276 \n"
     ]
    },
    {
     "name": "stderr",
     "output_type": "stream",
     "text": [
      "Saving 6.67 x 6.67 in image\n",
      "Warning message:\n",
      "“Removed 2 rows containing missing values (geom_point).”"
     ]
    },
    {
     "name": "stdout",
     "output_type": "stream",
     "text": [
      "Train: 7.46062992125984 -> 8.18897637795276 \n"
     ]
    },
    {
     "name": "stderr",
     "output_type": "stream",
     "text": [
      "Saving 6.67 x 6.67 in image\n",
      "Warning message:\n",
      "“Removed 2 rows containing missing values (geom_point).”"
     ]
    },
    {
     "name": "stdout",
     "output_type": "stream",
     "text": [
      "Train: 7.46456692913386 -> 8.18897637795276 \n"
     ]
    },
    {
     "name": "stderr",
     "output_type": "stream",
     "text": [
      "Saving 6.67 x 6.67 in image\n",
      "Warning message:\n",
      "“Removed 2 rows containing missing values (geom_point).”"
     ]
    },
    {
     "name": "stdout",
     "output_type": "stream",
     "text": [
      "Train: 7.46456692913386 -> 8.18503937007874 \n"
     ]
    },
    {
     "name": "stderr",
     "output_type": "stream",
     "text": [
      "Saving 6.67 x 6.67 in image\n",
      "Warning message:\n",
      "“Removed 2 rows containing missing values (geom_point).”"
     ]
    },
    {
     "name": "stdout",
     "output_type": "stream",
     "text": [
      "Train: 7.47637795275591 -> 8.18503937007874 \n"
     ]
    },
    {
     "name": "stderr",
     "output_type": "stream",
     "text": [
      "Saving 6.67 x 6.67 in image\n",
      "Warning message:\n",
      "“Removed 2 rows containing missing values (geom_point).”"
     ]
    },
    {
     "name": "stdout",
     "output_type": "stream",
     "text": [
      "Train: 7.47637795275591 -> 8.18503937007874 \n"
     ]
    },
    {
     "name": "stderr",
     "output_type": "stream",
     "text": [
      "Saving 6.67 x 6.67 in image\n",
      "Warning message:\n",
      "“Removed 2 rows containing missing values (geom_point).”"
     ]
    },
    {
     "name": "stdout",
     "output_type": "stream",
     "text": [
      "Train: 7.47637795275591 -> 8.17322834645669 \n"
     ]
    },
    {
     "name": "stderr",
     "output_type": "stream",
     "text": [
      "Saving 6.67 x 6.67 in image\n",
      "Warning message:\n",
      "“Removed 2 rows containing missing values (geom_point).”"
     ]
    },
    {
     "name": "stdout",
     "output_type": "stream",
     "text": [
      "Train: 7.47637795275591 -> 8.17322834645669 \n"
     ]
    },
    {
     "name": "stderr",
     "output_type": "stream",
     "text": [
      "Saving 6.67 x 6.67 in image\n",
      "Warning message:\n",
      "“Removed 2 rows containing missing values (geom_point).”"
     ]
    },
    {
     "name": "stdout",
     "output_type": "stream",
     "text": [
      "Train: 7.48031496062992 -> 8.17322834645669 \n"
     ]
    },
    {
     "name": "stderr",
     "output_type": "stream",
     "text": [
      "Saving 6.67 x 6.67 in image\n",
      "Warning message:\n",
      "“Removed 2 rows containing missing values (geom_point).”"
     ]
    },
    {
     "name": "stdout",
     "output_type": "stream",
     "text": [
      "Train: 7.48031496062992 -> 8.16535433070866 \n"
     ]
    },
    {
     "name": "stderr",
     "output_type": "stream",
     "text": [
      "Saving 6.67 x 6.67 in image\n",
      "Warning message:\n",
      "“Removed 2 rows containing missing values (geom_point).”"
     ]
    },
    {
     "name": "stdout",
     "output_type": "stream",
     "text": [
      "Train: 7.48818897637795 -> 8.16535433070866 \n"
     ]
    },
    {
     "name": "stderr",
     "output_type": "stream",
     "text": [
      "Saving 6.67 x 6.67 in image\n",
      "Warning message:\n",
      "“Removed 2 rows containing missing values (geom_point).”"
     ]
    },
    {
     "name": "stdout",
     "output_type": "stream",
     "text": [
      "Train: 7.48818897637795 -> 8.15354330708661 \n"
     ]
    },
    {
     "name": "stderr",
     "output_type": "stream",
     "text": [
      "Saving 6.67 x 6.67 in image\n",
      "Warning message:\n",
      "“Removed 2 rows containing missing values (geom_point).”"
     ]
    },
    {
     "name": "stdout",
     "output_type": "stream",
     "text": [
      "Train: 7.49212598425197 -> 8.15354330708661 \n"
     ]
    },
    {
     "name": "stderr",
     "output_type": "stream",
     "text": [
      "Saving 6.67 x 6.67 in image\n",
      "Warning message:\n",
      "“Removed 2 rows containing missing values (geom_point).”"
     ]
    },
    {
     "name": "stdout",
     "output_type": "stream",
     "text": [
      "Train: 7.49606299212599 -> 8.15354330708661 \n"
     ]
    },
    {
     "name": "stderr",
     "output_type": "stream",
     "text": [
      "Saving 6.67 x 6.67 in image\n",
      "Warning message:\n",
      "“Removed 2 rows containing missing values (geom_point).”"
     ]
    },
    {
     "name": "stdout",
     "output_type": "stream",
     "text": [
      "Train: 7.50393700787402 -> 8.15354330708661 \n"
     ]
    },
    {
     "name": "stderr",
     "output_type": "stream",
     "text": [
      "Saving 6.67 x 6.67 in image\n",
      "Warning message:\n",
      "“Removed 2 rows containing missing values (geom_point).”"
     ]
    },
    {
     "name": "stdout",
     "output_type": "stream",
     "text": [
      "Train: 7.50393700787402 -> 8.12992125984252 \n"
     ]
    },
    {
     "name": "stderr",
     "output_type": "stream",
     "text": [
      "Saving 6.67 x 6.67 in image\n",
      "Warning message:\n",
      "“Removed 2 rows containing missing values (geom_point).”"
     ]
    },
    {
     "name": "stdout",
     "output_type": "stream",
     "text": [
      "Train: 7.53149606299213 -> 8.12992125984252 \n"
     ]
    },
    {
     "name": "stderr",
     "output_type": "stream",
     "text": [
      "Saving 6.67 x 6.67 in image\n",
      "Warning message:\n",
      "“Removed 2 rows containing missing values (geom_point).”"
     ]
    },
    {
     "name": "stdout",
     "output_type": "stream",
     "text": [
      "Train: 7.53149606299213 -> 8.12992125984252 \n"
     ]
    },
    {
     "name": "stderr",
     "output_type": "stream",
     "text": [
      "Saving 6.67 x 6.67 in image\n",
      "Warning message:\n",
      "“Removed 2 rows containing missing values (geom_point).”"
     ]
    },
    {
     "name": "stdout",
     "output_type": "stream",
     "text": [
      "Train: 7.53149606299213 -> 8.11417322834646 \n"
     ]
    },
    {
     "name": "stderr",
     "output_type": "stream",
     "text": [
      "Saving 6.67 x 6.67 in image\n",
      "Warning message:\n",
      "“Removed 2 rows containing missing values (geom_point).”"
     ]
    },
    {
     "name": "stdout",
     "output_type": "stream",
     "text": [
      "Train: 7.53149606299213 -> 8.11417322834646 \n"
     ]
    },
    {
     "name": "stderr",
     "output_type": "stream",
     "text": [
      "Saving 6.67 x 6.67 in image\n",
      "Warning message:\n",
      "“Removed 2 rows containing missing values (geom_point).”"
     ]
    },
    {
     "name": "stdout",
     "output_type": "stream",
     "text": [
      "Train: 7.53149606299213 -> 8.11417322834646 \n"
     ]
    },
    {
     "name": "stderr",
     "output_type": "stream",
     "text": [
      "Saving 6.67 x 6.67 in image\n",
      "Warning message:\n",
      "“Removed 2 rows containing missing values (geom_point).”"
     ]
    }
   ],
   "source": [
    "model.core <- function(alldata, train, test, n.outliers) {\n",
    "    meanhand <- mean(train$hand)\n",
    "    train$dist <- abs(meanhand - train$hand)\n",
    "    train.no <- train[order(-train$dist),][(n.outliers+1):nrow(train),]\n",
    "    cat(paste(\"Train:\", min(train.no$hand), \"->\", max(train.no$hand), \"\\n\"))\n",
    "\n",
    "    hmod.no <- train(height ~ hand , train.no, method = \"lm\")\n",
    "    rmsd <- RMSD(test$height, predict(hmod.no, newdata=test))\n",
    "    \n",
    "    #cat(paste(\"Train size:\", nrow(train.no), \"RMSD:\", rmsd, \"\\n\", sep=' ')) \n",
    "    plot.errors(alldata, rbind(train.no, test), hmod.no, rmsd, paste(\"BestFit\", n.outliers, \".png\", sep=''))\n",
    "    \n",
    "    return(rmsd)\n",
    "}\n",
    "\n",
    "set.seed(12345)\n",
    "train_idx <- sample(seq_len(nrow(data)), nrow(data)*.8)\n",
    "train <- data[train_idx,]\n",
    "test <- data[-train_idx,]\n",
    "cat(paste(\"Test:\", min(test$hand), \"->\", max(test$hand), \"\\n\"))\n",
    "\n",
    "paste(\"Train size:\", nrow(train), \"Test size:\", nrow(test))\n",
    "\n",
    "results <- data.frame(outliers=numeric(), rmsd=numeric())\n",
    "for (i in 0:80) {# Switch to 0:50\n",
    "    results <- rbind(results, data.frame(outliers=i, rmsd=model.core(data, train, test, i)))\n",
    "    plot.timeline(results, paste(\"timeline\", i, \".png\", sep=''))\n",
    "}\n",
    "\n",
    "#results"
   ]
  },
  {
   "cell_type": "code",
   "execution_count": 200,
   "metadata": {},
   "outputs": [
    {
     "data": {
      "text/html": [
       "<ol class=list-inline>\n",
       "\t<li>8.21259842519685</li>\n",
       "\t<li>6.81889763779528</li>\n",
       "\t<li>8.12992125984252</li>\n",
       "\t<li>8.05905511811024</li>\n",
       "\t<li>8.35826771653543</li>\n",
       "\t<li>8.60236220472441</li>\n",
       "\t<li>7.8503937007874</li>\n",
       "\t<li>8.05511811023622</li>\n",
       "\t<li>7.7755905511811</li>\n",
       "\t<li>8.40157480314961</li>\n",
       "\t<li>8.0236220472441</li>\n",
       "\t<li>8.03937007874016</li>\n",
       "\t<li>8.19685039370079</li>\n",
       "\t<li>7.85433070866142</li>\n",
       "\t<li>8.61811023622047</li>\n",
       "\t<li>8.64173228346457</li>\n",
       "\t<li>7.74015748031496</li>\n",
       "\t<li>8.4488188976378</li>\n",
       "\t<li>7.54330708661417</li>\n",
       "\t<li>7.44094488188976</li>\n",
       "\t<li>7.68110236220472</li>\n",
       "\t<li>7.27165354330709</li>\n",
       "\t<li>7.62204724409449</li>\n",
       "\t<li>7.38188976377953</li>\n",
       "\t<li>7.67716535433071</li>\n",
       "\t<li>7.33464566929134</li>\n",
       "\t<li>7.31889763779528</li>\n",
       "\t<li>7.6259842519685</li>\n",
       "\t<li>7.46062992125984</li>\n",
       "\t<li>7.71653543307087</li>\n",
       "\t<li>7.44488188976378</li>\n",
       "</ol>\n"
      ],
      "text/latex": [
       "\\begin{enumerate*}\n",
       "\\item 8.21259842519685\n",
       "\\item 6.81889763779528\n",
       "\\item 8.12992125984252\n",
       "\\item 8.05905511811024\n",
       "\\item 8.35826771653543\n",
       "\\item 8.60236220472441\n",
       "\\item 7.8503937007874\n",
       "\\item 8.05511811023622\n",
       "\\item 7.7755905511811\n",
       "\\item 8.40157480314961\n",
       "\\item 8.0236220472441\n",
       "\\item 8.03937007874016\n",
       "\\item 8.19685039370079\n",
       "\\item 7.85433070866142\n",
       "\\item 8.61811023622047\n",
       "\\item 8.64173228346457\n",
       "\\item 7.74015748031496\n",
       "\\item 8.4488188976378\n",
       "\\item 7.54330708661417\n",
       "\\item 7.44094488188976\n",
       "\\item 7.68110236220472\n",
       "\\item 7.27165354330709\n",
       "\\item 7.62204724409449\n",
       "\\item 7.38188976377953\n",
       "\\item 7.67716535433071\n",
       "\\item 7.33464566929134\n",
       "\\item 7.31889763779528\n",
       "\\item 7.6259842519685\n",
       "\\item 7.46062992125984\n",
       "\\item 7.71653543307087\n",
       "\\item 7.44488188976378\n",
       "\\end{enumerate*}\n"
      ],
      "text/markdown": [
       "1. 8.21259842519685\n",
       "2. 6.81889763779528\n",
       "3. 8.12992125984252\n",
       "4. 8.05905511811024\n",
       "5. 8.35826771653543\n",
       "6. 8.60236220472441\n",
       "7. 7.8503937007874\n",
       "8. 8.05511811023622\n",
       "9. 7.7755905511811\n",
       "10. 8.40157480314961\n",
       "11. 8.0236220472441\n",
       "12. 8.03937007874016\n",
       "13. 8.19685039370079\n",
       "14. 7.85433070866142\n",
       "15. 8.61811023622047\n",
       "16. 8.64173228346457\n",
       "17. 7.74015748031496\n",
       "18. 8.4488188976378\n",
       "19. 7.54330708661417\n",
       "20. 7.44094488188976\n",
       "21. 7.68110236220472\n",
       "22. 7.27165354330709\n",
       "23. 7.62204724409449\n",
       "24. 7.38188976377953\n",
       "25. 7.67716535433071\n",
       "26. 7.33464566929134\n",
       "27. 7.31889763779528\n",
       "28. 7.6259842519685\n",
       "29. 7.46062992125984\n",
       "30. 7.71653543307087\n",
       "31. 7.44488188976378\n",
       "\n",
       "\n"
      ],
      "text/plain": [
       " [1] 8.212598 6.818898 8.129921 8.059055 8.358268 8.602362 7.850394 8.055118\n",
       " [9] 7.775591 8.401575 8.023622 8.039370 8.196850 7.854331 8.618110 8.641732\n",
       "[17] 7.740157 8.448819 7.543307 7.440945 7.681102 7.271654 7.622047 7.381890\n",
       "[25] 7.677165 7.334646 7.318898 7.625984 7.460630 7.716535 7.444882"
      ]
     },
     "metadata": {},
     "output_type": "display_data"
    }
   ],
   "source": [
    "test$hand"
   ]
  },
  {
   "cell_type": "code",
   "execution_count": 76,
   "metadata": {},
   "outputs": [
    {
     "data": {},
     "metadata": {},
     "output_type": "display_data"
    },
    {
     "data": {
      "image/png": "[encoded data removed]",
      "text/plain": [
       "plot without title"
      ]
     },
     "metadata": {},
     "output_type": "display_data"
    }
   ],
   "source": [
    "\n",
    "lm.int <- summary(hmod.no)$coefficients['(Intercept)', 'Estimate']\n",
    "lm.slope <- summary(hmod.no)$coefficients['hand', 'Estimate']\n",
    "\n",
    "data.no$predicted <- predict(hmod.no, newdata = data.no)\n",
    "coords <- data.no %>% \n",
    "    mutate(grp = row_number()) %>% \n",
    "    select(grp, hand, height, predicted) %>%\n",
    "    rename(actual = height) %>%\n",
    "    gather(h.type, height, actual, predicted) \n",
    "\n",
    "g <- ggplot(data=data.no, aes(hand, height)) + \n",
    "    geom_line(data=coords, aes(hand, height, group = grp), size=0.25) +\n",
    "    geom_abline(slope = lm.slope, intercept = lm.int) +\n",
    "    geom_point(aes(color=sex)) +\n",
    "    scale_y_continuous(breaks=seq(4, 7, 0.5), labels=c(\"4'0\\\"\", \"4'6\\\"\", \"5'0\\\"\", \"5'6\\\"\", \"6'0\\\"\", \"6'6\\\"\", \"7'0\\\"\")) +\n",
    "    scale_color_manual(values=c(\"#ED58BD\",\"#34B0C2\")) +\n",
    "    theme_Publication() +\n",
    "    theme(\n",
    "        legend.justification = c(1,0), legend.position = c(0.95,0.05)\n",
    "    )\n",
    "g\n",
    "# ggsave(file=\"test.jpeg\", g)"
   ]
  },
  {
   "cell_type": "code",
   "execution_count": 106,
   "metadata": {},
   "outputs": [
    {
     "data": {
      "text/plain": [
       "\n",
       "Call:\n",
       "lm(formula = .outcome ~ ., data = dat)\n",
       "\n",
       "Residuals:\n",
       "     Min       1Q   Median       3Q      Max \n",
       "-113.178  -21.065   -2.489   17.376  230.319 \n",
       "\n",
       "Coefficients:\n",
       "            Estimate Std. Error t value Pr(>|t|)    \n",
       "(Intercept) 566.5648    54.5683   10.38   <2e-16 ***\n",
       "foot          4.4562     0.2169   20.55   <2e-16 ***\n",
       "---\n",
       "Signif. codes:  0 ‘***’ 0.001 ‘**’ 0.01 ‘*’ 0.05 ‘.’ 0.1 ‘ ’ 1\n",
       "\n",
       "Residual standard error: 44.53 on 122 degrees of freedom\n",
       "Multiple R-squared:  0.7758,\tAdjusted R-squared:  0.774 \n",
       "F-statistic: 422.2 on 1 and 122 DF,  p-value: < 2.2e-16\n"
      ]
     },
     "metadata": {},
     "output_type": "display_data"
    }
   ],
   "source": [
    "summary(fmod)"
   ]
  },
  {
   "cell_type": "markdown",
   "metadata": {},
   "source": [
    "So far it looks like the hand model is better (as expected), but let's go ahead an assess that using our test dataset.\n",
    "\n",
    "Below I'm going to define a function to calculate the RMSD comparing actual and predicted values. Don't worry too much about the specifics of the function for now - I will explain in more detail later."
   ]
  },
  {
   "cell_type": "code",
   "execution_count": 113,
   "metadata": {
    "collapsed": true
   },
   "outputs": [],
   "source": [
    "RMSD <- function(actual, pred, M=mean) {\n",
    "    data.frame('actual' = actual, 'pred' = pred) %>%\n",
    "        mutate(se = (actual - pred)^2) %>%\n",
    "        summarize(RMSD = sqrt(M(se)))\n",
    "}"
   ]
  },
  {
   "cell_type": "markdown",
   "metadata": {},
   "source": [
    "Now I'll assess the hand and foot models. Note that smaller RMSDs are indicative of a better model."
   ]
  },
  {
   "cell_type": "code",
   "execution_count": 11,
   "metadata": {},
   "outputs": [
    {
     "data": {
      "text/html": [
       "'Hand model RMSD: 96.0124668402878'"
      ],
      "text/latex": [
       "'Hand model RMSD: 96.0124668402878'"
      ],
      "text/markdown": [
       "'Hand model RMSD: 96.0124668402878'"
      ],
      "text/plain": [
       "[1] \"Hand model RMSD: 96.0124668402878\""
      ]
     },
     "metadata": {},
     "output_type": "display_data"
    },
    {
     "data": {
      "text/html": [
       "'Foot model RMSD: 54.6960830303558'"
      ],
      "text/latex": [
       "'Foot model RMSD: 54.6960830303558'"
      ],
      "text/markdown": [
       "'Foot model RMSD: 54.6960830303558'"
      ],
      "text/plain": [
       "[1] \"Foot model RMSD: 54.6960830303558\""
      ]
     },
     "metadata": {},
     "output_type": "display_data"
    }
   ],
   "source": [
    "paste(\"Hand model RMSD:\",RMSD(test$height, predict(hmod, newdata = test)))\n",
    "paste(\"Foot model RMSD:\",RMSD(test$height, predict(fmod, newdata = test)))"
   ]
  },
  {
   "cell_type": "markdown",
   "metadata": {},
   "source": [
    "Interesting: so the adjusted R-squared values of the model training process indicated that the hand model was quite a bit better (0.9136 adj-R^2 for hand vs. 0.8011 for foot), but here the foot model had a considerably lower RMSD. This is probably largely because of those two outliers that I mentioned earlier. What happens if I take them out of the testing set as well?"
   ]
  },
  {
   "cell_type": "code",
   "execution_count": 12,
   "metadata": {},
   "outputs": [
    {
     "data": {
      "text/html": [
       "'Hand model RMSD: 19.3709266645786'"
      ],
      "text/latex": [
       "'Hand model RMSD: 19.3709266645786'"
      ],
      "text/markdown": [
       "'Hand model RMSD: 19.3709266645786'"
      ],
      "text/plain": [
       "[1] \"Hand model RMSD: 19.3709266645786\""
      ]
     },
     "metadata": {},
     "output_type": "display_data"
    },
    {
     "data": {
      "text/html": [
       "'Foot model RMSD: 43.0366268955534'"
      ],
      "text/latex": [
       "'Foot model RMSD: 43.0366268955534'"
      ],
      "text/markdown": [
       "'Foot model RMSD: 43.0366268955534'"
      ],
      "text/plain": [
       "[1] \"Foot model RMSD: 43.0366268955534\""
      ]
     },
     "metadata": {},
     "output_type": "display_data"
    }
   ],
   "source": [
    "noouttest <- filter(test, hand > 160 & hand < 240)\n",
    "paste(\"Hand model RMSD:\",RMSD(noouttest$height, predict(hmod, newdata=noouttest)))\n",
    "paste(\"Foot model RMSD:\",RMSD(noouttest$height, predict(fmod, newdata=noouttest)))"
   ]
  },
  {
   "cell_type": "markdown",
   "metadata": {},
   "source": [
    "Similarly to the change in correlation above, we see a drastic reduction in RMSD of the hand model predictions after removing these outliers from the test set. I still feel a little weird doing this, so let's take a closer look at what's happening at the residual level.\n",
    "\n",
    "*This may not be the direction that you want me to go with this assignment, but I'm having fun and think this is actually a legitimate train of thought, so I hope you'll just roll with me here. I'm going to take you on a ride that has less to do with the mechanics of linear model generation and more to do with LM theory.*\n",
    "\n",
    "Below I use the models to predict values from the test set, compare to the actual values to get absolute value residuals, then generate box plots of these residuals."
   ]
  },
  {
   "cell_type": "code",
   "execution_count": 13,
   "metadata": {},
   "outputs": [
    {
     "data": {},
     "metadata": {},
     "output_type": "display_data"
    },
    {
     "data": {
      "image/png": "[encoded data removed]",
      "text/plain": [
       "plot without title"
      ]
     },
     "metadata": {},
     "output_type": "display_data"
    }
   ],
   "source": [
    "h_res <- test %>%\n",
    "    mutate(pred = predict(hmod, newdata=test)) %>%\n",
    "    mutate(model = 'hand')\n",
    "f_res <- test %>%\n",
    "    mutate(pred = predict(fmod, newdata=test)) %>%\n",
    "    mutate(model = 'foot')\n",
    "\n",
    "residuals <- rbind(h_res, f_res)  %>%\n",
    "    mutate(res = abs(height-pred)) %>%\n",
    "    mutate(outlier = ifelse(hand > 160 & hand < 240, 'normal','outlier')) \n",
    "\n",
    "ggplot(data=residuals, aes(x=model, y=res)) + \n",
    "    geom_boxplot() + geom_jitter(width=.1, aes(color=outlier)) "
   ]
  },
  {
   "cell_type": "markdown",
   "metadata": {},
   "source": [
    "With these box plots, we can see just how extreme of an effect these outliers are having on the hand model. Without them, the remaining residuals would all be quite low, but we already knew that since we previously calculated the RMSD using the filtered test set.\n",
    "\n",
    "Preferably, we could just use a metric that is more resistant to outliers than RMSD. Oh wait, there is a mean-like metric that is resiliant to outliers - the median! In fact, we can already see by looking at the box plots above that the median residual is smaller for the hand model. So can we use median instead of mean when assessing the models? Let's try!\n",
    "\n",
    "Remember how I said not to look too closely at that RMSD function above? Well, it turns out that I wrote it in such a way that the \"M\" is flexible. Generally, the \"M\" in RMSD stands for Mean, but I've decided that I want to use M=median instead, to get the Root-**Median**-Squared-Deviation. My handy-dandy function can handle this change quite easily."
   ]
  },
  {
   "cell_type": "code",
   "execution_count": 14,
   "metadata": {},
   "outputs": [
    {
     "data": {
      "text/html": [
       "'Hand model R-Median-SD: 13.4150028228385'"
      ],
      "text/latex": [
       "'Hand model R-Median-SD: 13.4150028228385'"
      ],
      "text/markdown": [
       "'Hand model R-Median-SD: 13.4150028228385'"
      ],
      "text/plain": [
       "[1] \"Hand model R-Median-SD: 13.4150028228385\""
      ]
     },
     "metadata": {},
     "output_type": "display_data"
    },
    {
     "data": {
      "text/html": [
       "'Foot model R-Median-SD: 19.8764345972368'"
      ],
      "text/latex": [
       "'Foot model R-Median-SD: 19.8764345972368'"
      ],
      "text/markdown": [
       "'Foot model R-Median-SD: 19.8764345972368'"
      ],
      "text/plain": [
       "[1] \"Foot model R-Median-SD: 19.8764345972368\""
      ]
     },
     "metadata": {},
     "output_type": "display_data"
    }
   ],
   "source": [
    "paste(\"Hand model R-Median-SD:\",RMSD(test$height, predict(hmod, newdata=test), M=median))\n",
    "paste(\"Foot model R-Median-SD:\",RMSD(test$height, predict(fmod, newdata=test), M=median))"
   ]
  },
  {
   "cell_type": "markdown",
   "metadata": {},
   "source": [
    "Aha! Using that version of the RMSD, the hand model outperforms the foot model even when we still have the outliers in the test dataset!\n",
    "\n",
    "But hold on, let's think about what using this median-based metric *means* (haha ... sorry, it's late). Minimizing a mean-based metric reduces the overall error of the predictions, and this error would be spread more evenly across all predicted values. On the other hand, prioritizing a median-based metric during the model-selection process would result in a predictor that was as accurate as possible for the best half of the predictions, with little regard for the worst half of predictions. That doesn't sound that great, to have a predictor that has a 50% chance of having a really good prediction and a 50% chance of having a bad prediction, so let's do better.\n",
    "\n",
    "Really, there's no reason we have to use the median for our modified RMSD. The median is just a specific *quantile*, so let's pick a new quantile that serves our purposes better. This choice would really depend on the specific purpose of the predictor, but I'll assume here that we're going to be happy maximizing the predictive power for 90% of people."
   ]
  },
  {
   "cell_type": "code",
   "execution_count": 15,
   "metadata": {},
   "outputs": [
    {
     "data": {
      "text/html": [
       "'Hand model R-90q-SD: 34.5032470491244'"
      ],
      "text/latex": [
       "'Hand model R-90q-SD: 34.5032470491244'"
      ],
      "text/markdown": [
       "'Hand model R-90q-SD: 34.5032470491244'"
      ],
      "text/plain": [
       "[1] \"Hand model R-90q-SD: 34.5032470491244\""
      ]
     },
     "metadata": {},
     "output_type": "display_data"
    },
    {
     "data": {
      "text/html": [
       "'Foot model R-90q-SD: 67.2060878280394'"
      ],
      "text/latex": [
       "'Foot model R-90q-SD: 67.2060878280394'"
      ],
      "text/markdown": [
       "'Foot model R-90q-SD: 67.2060878280394'"
      ],
      "text/plain": [
       "[1] \"Foot model R-90q-SD: 67.2060878280394\""
      ]
     },
     "metadata": {},
     "output_type": "display_data"
    }
   ],
   "source": [
    "# Define a quick function that will calculate the 90th percentile\n",
    "q90 <- function(x) { quantile(x, 0.9) }\n",
    "paste(\"Hand model R-90q-SD:\",RMSD(test$height, predict(hmod, newdata=test), q90))\n",
    "paste(\"Foot model R-90q-SD:\",RMSD(test$height, predict(fmod, newdata=test), q90))"
   ]
  },
  {
   "cell_type": "markdown",
   "metadata": {},
   "source": [
    "At this point I feel like I'm just getting the results that I want, but I think I've demonstrated a concept that makes general sense. When training a model, you have to have some metric of determining what the best model is. Generally for a linear regression model like this you would use the Root Mean Squared Error, which is generally a pretty good metric. My argument here is that there could be cases when it is more beneficial to train the model to maximize the benefit for most cases and to ignore the remaining ones to some extent. \n",
    "\n",
    "In such a case, the model can be trained on data filtered for outliers. Then, by using a percentile-based metric like my modified RMSD, the model can be assessed for its ability to predict the outcome for the majority of people, without having to filter the testing dataset for outliers. It is important that this is the case, as we may not necessarily know about such extreme outliers when utilizing the model to make real predictions. \n",
    "\n",
    "In this example, the outliers were defined based strictly on one of the metrics that we would theoretically know when trying to make the prediction (hand length), so it would be possible to screen new predictions by that measurement and give warning that the model is not suited to making predictions about that individual. In fact, we might make multiple models based on a segmented population, like having one model for predicting the height of people with hand size under 160, a model for hand size over 240, and a main model for everything in between (that wouldn't work very well here, due to lack of data, but still). However, I think that this proposed method will be pretty resiliant even to outliers in the predicted variable, which would be more valuable than the situation in this project.\n",
    "\n",
    "So yeah. My final answer is this model trained on a non-outlier partition of the stature data, with the caveat that it is not designed to be a the best predictor across the spectrum, but rather the best predictor for the most typical 90% or so of people."
   ]
  }
 ],
 "metadata": {
  "kernelspec": {
   "display_name": "R",
   "language": "R",
   "name": "ir"
  },
  "language_info": {
   "codemirror_mode": "r",
   "file_extension": ".r",
   "mimetype": "text/x-r-source",
   "name": "R",
   "pygments_lexer": "r",
   "version": "3.4.1"
  }
 },
 "nbformat": 4,
 "nbformat_minor": 1
}
